{
 "cells": [
  {
   "cell_type": "code",
   "execution_count": 1,
   "metadata": {},
   "outputs": [],
   "source": [
    "import pandas as pd \n",
    "import numpy as np\n",
    "import re\n",
    "import random\n",
    "import math\n",
    "from bs4 import BeautifulSoup\n",
    "import os"
   ]
  },
  {
   "cell_type": "code",
   "execution_count": 2,
   "metadata": {},
   "outputs": [],
   "source": [
    "import tensorflow as tf\n",
    "import tensorflow.keras as keras\n",
    "import tensorflow_hub as hub\n",
    "from tensorflow.keras import layers\n",
    "from tensorflow.keras.layers import Dense, LSTM, InputLayer, Bidirectional, TimeDistributed, Embedding, Activation\n",
    "from tensorflow.keras.optimizers import Adam\n",
    "from tensorflow.keras.callbacks import ModelCheckpoint\n",
    "from tensorflow.keras.models import Sequential, load_model\n",
    "\n",
    "import bert"
   ]
  },
  {
   "cell_type": "code",
   "execution_count": 3,
   "metadata": {},
   "outputs": [
    {
     "data": {
      "text/plain": [
       "'/device:GPU:0'"
      ]
     },
     "execution_count": 3,
     "metadata": {},
     "output_type": "execute_result"
    }
   ],
   "source": [
    "tf.test.gpu_device_name() "
   ]
  },
  {
   "cell_type": "code",
   "execution_count": 4,
   "metadata": {},
   "outputs": [
    {
     "name": "stdout",
     "output_type": "stream",
     "text": [
      "2.1.0\n"
     ]
    }
   ],
   "source": [
    "print(tf.__version__)"
   ]
  },
  {
   "cell_type": "code",
   "execution_count": 5,
   "metadata": {},
   "outputs": [],
   "source": [
    "# Load all files from a directory into dictionaries\n",
    "def load_directory_data(directory, label):\n",
    "    data = []\n",
    "    for file_path in os.listdir(directory):\n",
    "        with open(os.path.join(directory, file_path), \"r\") as f:\n",
    "            data.append({\"text\": f.read().replace(\"<br />\", \" \"), \"label\": label})\n",
    "    return data\n",
    "\n",
    "# Load the positive and negative examples from the dataset\n",
    "def load_dataset(directory):\n",
    "    pos_data = load_directory_data(os.path.join(directory, \"pos\"), 1)\n",
    "    neg_data = load_directory_data(os.path.join(directory, \"neg\"), 0)\n",
    "    return pos_data+neg_data"
   ]
  },
  {
   "cell_type": "code",
   "execution_count": 6,
   "metadata": {},
   "outputs": [],
   "source": [
    "train_data = load_dataset(os.path.join(os.path.dirname(\"F:\\\\Projects\\\\CA-5\\\\\"), \"aclImdb\", \"train\"))"
   ]
  },
  {
   "cell_type": "code",
   "execution_count": 7,
   "metadata": {},
   "outputs": [],
   "source": [
    "test_data = load_dataset(os.path.join(os.path.dirname(\"F:\\\\Projects\\\\CA-5\\\\\"), \"aclImdb\", \"test\"))"
   ]
  },
  {
   "cell_type": "code",
   "execution_count": 8,
   "metadata": {},
   "outputs": [],
   "source": [
    "random.shuffle(train_data)\n",
    "random.shuffle(test_data)"
   ]
  },
  {
   "cell_type": "code",
   "execution_count": 9,
   "metadata": {},
   "outputs": [
    {
     "name": "stdout",
     "output_type": "stream",
     "text": [
      "25000\n",
      "25000\n"
     ]
    }
   ],
   "source": [
    "print(len(train_data))\n",
    "print(len(test_data))"
   ]
  },
  {
   "cell_type": "code",
   "execution_count": 10,
   "metadata": {},
   "outputs": [
    {
     "name": "stdout",
     "output_type": "stream",
     "text": [
      "len of shotest text of train_data:  52\n",
      "len of longest text of train_data:  13604\n",
      "\n",
      "len of shotest text of test_data:  32\n",
      "len of longest text of test_data:  12730\n"
     ]
    }
   ],
   "source": [
    "print(\"len of shotest text of train_data: \", min(len(x['text']) for x in train_data ))\n",
    "print(\"len of longest text of train_data: \", max(len(x['text']) for x in train_data ))\n",
    "\n",
    "print(\"\\nlen of shotest text of test_data: \", min(len(x['text']) for x in test_data ))\n",
    "print(\"len of longest text of test_data: \", max(len(x['text']) for x in test_data ))"
   ]
  },
  {
   "cell_type": "code",
   "execution_count": 11,
   "metadata": {},
   "outputs": [],
   "source": [
    "def denoise_text(text):    \n",
    "    # Remove the html strips\n",
    "    soup = BeautifulSoup(text, \"html.parser\")\n",
    "    text = soup.get_text()\n",
    "    \n",
    "    # Remove digits and punctuations \n",
    "    pattern=r'[^a-zA-Z]'\n",
    "    text=re.sub(pattern,' ',text)\n",
    "    \n",
    "    # Remove single characters\n",
    "    text = re.sub(r\"\\s+[a-zA-Z]\\s+\", ' ', text)\n",
    "    \n",
    "    # Remove multiple spaces\n",
    "    text = re.sub(r'\\s+', ' ', text)\n",
    "        \n",
    "    return text"
   ]
  },
  {
   "cell_type": "code",
   "execution_count": 12,
   "metadata": {},
   "outputs": [],
   "source": [
    "train_X, train_Y, test_X, test_Y = [], [], [], []\n",
    "\n",
    "for e in train_data:\n",
    "    train_X.append(denoise_text(e['text']))\n",
    "    train_Y.append(e['label'])\n",
    "    \n",
    "for e in test_data:\n",
    "    test_X.append(denoise_text(e['text']))\n",
    "    test_Y.append(e['label'])      "
   ]
  },
  {
   "cell_type": "code",
   "execution_count": 13,
   "metadata": {},
   "outputs": [],
   "source": [
    "#bert_layer = hub.KerasLayer(\"https://tfhub.dev/tensorflow/bert_en_uncased_L-12_H-768_A-12/1\", trainable=False)\n",
    "bert_layer = hub.KerasLayer(\"F:\\\\Projects\\\\bertmodel\", trainable=False)"
   ]
  },
  {
   "cell_type": "code",
   "execution_count": 14,
   "metadata": {},
   "outputs": [],
   "source": [
    "BertTokenizer=bert.bert_tokenization.FullTokenizer\n",
    " \n",
    "vocab_file=bert_layer.resolved_object.vocab_file.asset_path.numpy()\n",
    "\n",
    "do_lower_case=bert_layer.resolved_object.do_lower_case.numpy()\n",
    " \n",
    "tokenizer=BertTokenizer(vocab_file,do_lower_case)"
   ]
  },
  {
   "cell_type": "code",
   "execution_count": 15,
   "metadata": {},
   "outputs": [
    {
     "name": "stdout",
     "output_type": "stream",
     "text": [
      "['I', 'don', \"'\", 't', 'like', 'this', 'movie']\n",
      "[146, 1274, 112, 189, 1176, 1142, 2523]\n"
     ]
    }
   ],
   "source": [
    "print(tokenizer.tokenize(\"I don't like this movie\"))\n",
    "print(tokenizer.convert_tokens_to_ids(tokenizer.tokenize(\"I don't like this movie\")))"
   ]
  },
  {
   "cell_type": "code",
   "execution_count": 16,
   "metadata": {},
   "outputs": [],
   "source": [
    "def get_ids_masks_segs(tokens, tokenizer, max_seq_length):\n",
    "    \n",
    "    segments = []\n",
    "    current_segment_id = 0\n",
    "    for token in tokens:\n",
    "        segments.append(current_segment_id)\n",
    "        if token == \"[SEP]\":\n",
    "            current_segment_id = 1\n",
    "            \n",
    "    token_ids = tokenizer.convert_tokens_to_ids(tokens,)\n",
    "    if len(token_ids) < max_seq_length:\n",
    "        input_ids = token_ids + [0] * (max_seq_length - len(token_ids))\n",
    "        masks = [1]*len(tokens) + [0] * (max_seq_length - len(tokens))\n",
    "        segments = segments + [0] * (max_seq_length - len(tokens))\n",
    "    else:\n",
    "        input_ids = token_ids[:max_seq_length]\n",
    "        masks = [1] * max_seq_length\n",
    "        segments = segments[:max_seq_length]\n",
    "    \n",
    "    return input_ids, masks, segments"
   ]
  },
  {
   "cell_type": "code",
   "execution_count": 17,
   "metadata": {},
   "outputs": [],
   "source": [
    "from tqdm import tqdm\n",
    "MAX_SEQ_LEN = 128\n",
    "def create_input_array(sentences):\n",
    "    \n",
    "    input_ids, input_masks, input_segments = [], [], []\n",
    "\n",
    "    for sentence in sentences: # tqdm(sentences, position=0, leave=True):\n",
    "        tokens = tokenizer.tokenize(sentence)  \n",
    "        tokens = tokens[:MAX_SEQ_LEN-2]\n",
    "  \n",
    "        tokens = [\"[CLS]\"] + tokens + [\"[SEP]\"]\n",
    "        ids, masks, segments = get_ids_masks_segs(tokens, tokenizer, MAX_SEQ_LEN)        \n",
    "\n",
    "        input_ids.append(ids)\n",
    "        input_masks.append(masks)\n",
    "        input_segments.append(segments)\n",
    "\n",
    "    return [np.asarray(input_ids, dtype=np.int32), \n",
    "            np.asarray(input_masks, dtype=np.int32), \n",
    "            np.asarray(input_segments, dtype=np.int32)]"
   ]
  },
  {
   "cell_type": "code",
   "execution_count": 18,
   "metadata": {},
   "outputs": [],
   "source": [
    "inputs = create_input_array(train_X)"
   ]
  },
  {
   "cell_type": "code",
   "execution_count": 19,
   "metadata": {},
   "outputs": [
    {
     "name": "stdout",
     "output_type": "stream",
     "text": [
      "(25000, 128)\n",
      "(25000, 128)\n",
      "(25000, 128)\n",
      "[  101  1332  6910  1115  6727   160 12415  1105 11173 20452  8167 13040\n",
      "  1197  1127  1107  1103  1269  2523  1108  1176  2794  5890  1108  9582\n",
      "  1106  1267  1103  2523  1262  1138  1106  1474  1103  1148  5147  1904\n",
      "  1137  1177  1127  1185 19760 11007  1107  1236  1599  1122  1355  1155\n",
      "  1205  4665  1238  5363  1122  1106  1129 17549  1104 10966  5663  2987\n",
      "  2266 23993  4043   179  1818  4043  1220  1261  1451  1936  6241  8366\n",
      "  1105  3885  1122  1154  1141  4736  1642  1108 12647 22096  1181  1115\n",
      "  6727  1108  2017  1107  1625  1104  1103  3271  2108  1117  1648  9913\n",
      "  1114  3106  8458  3575  1156  2140  4392  1155  1115 11074  1164  1103\n",
      "  4357  1414  1409  2256  1541  3349  1106  1221  1293  3291  6262 19782\n",
      "  6602  1108  1176  3465  1205  1105  2373   102]\n",
      "[1 1 1 1 1 1 1 1 1 1 1 1 1 1 1 1 1 1 1 1 1 1 1 1 1 1 1 1 1 1 1 1 1 1 1 1 1\n",
      " 1 1 1 1 1 1 1 1 1 1 1 1 1 1 1 1 1 1 1 1 1 1 1 1 1 1 1 1 1 1 1 1 1 1 1 1 1\n",
      " 1 1 1 1 1 1 1 1 1 1 1 1 1 1 1 1 1 1 1 1 1 1 1 1 1 1 1 1 1 1 1 1 1 1 1 1 1\n",
      " 1 1 1 1 1 1 1 1 1 1 1 1 1 1 1 1 1]\n",
      "[0 0 0 0 0 0 0 0 0 0 0 0 0 0 0 0 0 0 0 0 0 0 0 0 0 0 0 0 0 0 0 0 0 0 0 0 0\n",
      " 0 0 0 0 0 0 0 0 0 0 0 0 0 0 0 0 0 0 0 0 0 0 0 0 0 0 0 0 0 0 0 0 0 0 0 0 0\n",
      " 0 0 0 0 0 0 0 0 0 0 0 0 0 0 0 0 0 0 0 0 0 0 0 0 0 0 0 0 0 0 0 0 0 0 0 0 0\n",
      " 0 0 0 0 0 0 0 0 0 0 0 0 0 0 0 0 0]\n"
     ]
    }
   ],
   "source": [
    "print(inputs[0].shape)\n",
    "print(inputs[1].shape)\n",
    "print(inputs[2].shape)\n",
    "\n",
    "print(inputs[0][10])\n",
    "print(inputs[1][10])\n",
    "print(inputs[2][10])"
   ]
  },
  {
   "cell_type": "code",
   "execution_count": 20,
   "metadata": {},
   "outputs": [],
   "source": [
    "input_word_ids = tf.keras.layers.Input(shape=(MAX_SEQ_LEN,), dtype=tf.int32, name=\"input_word_ids\")\n",
    "input_mask = tf.keras.layers.Input(shape=(MAX_SEQ_LEN,), dtype=tf.int32, name=\"input_mask\")\n",
    "segment_ids = tf.keras.layers.Input(shape=(MAX_SEQ_LEN,), dtype=tf.int32, name=\"segment_ids\")"
   ]
  },
  {
   "cell_type": "code",
   "execution_count": 21,
   "metadata": {},
   "outputs": [],
   "source": [
    "pooled_output, sequence_output = bert_layer([input_word_ids, input_mask, segment_ids])"
   ]
  },
  {
   "cell_type": "code",
   "execution_count": 22,
   "metadata": {},
   "outputs": [
    {
     "name": "stdout",
     "output_type": "stream",
     "text": [
      "(None, None, 1024)\n",
      "(None, 1024)\n"
     ]
    }
   ],
   "source": [
    "print(sequence_output.shape)\n",
    "print(pooled_output.shape)"
   ]
  },
  {
   "cell_type": "code",
   "execution_count": 23,
   "metadata": {},
   "outputs": [],
   "source": [
    "hidden_units = 1024\n",
    "learning_rate = 0.0002\n",
    "\n",
    "x = tf.keras.layers.GlobalAveragePooling1D()(sequence_output)\n",
    "#x = tf.keras.layers.Dropout(0.2)(x)\n",
    "#x = tf.keras.layers.Dense(units=hidden_units, activation='sigmoid')(x)\n",
    "x = tf.keras.layers.Dense(units=hidden_units, activation='relu', kernel_regularizer=keras.regularizers.l2(0.001))(x)\n",
    "out = tf.keras.layers.Dense(units=1, activation=\"sigmoid\", name=\"dense_output\")(x)\n",
    " \n",
    "model = tf.keras.models.Model(\n",
    "      inputs=[input_word_ids, input_mask, segment_ids], outputs=out)\n",
    "\n",
    "model.compile(loss=\"binary_crossentropy\", optimizer=Adam(lr=learning_rate), metrics=[\"accuracy\"])\n"
   ]
  },
  {
   "cell_type": "code",
   "execution_count": 24,
   "metadata": {},
   "outputs": [
    {
     "name": "stdout",
     "output_type": "stream",
     "text": [
      "Model: \"model\"\n",
      "__________________________________________________________________________________________________\n",
      "Layer (type)                    Output Shape         Param #     Connected to                     \n",
      "==================================================================================================\n",
      "input_word_ids (InputLayer)     [(None, 128)]        0                                            \n",
      "__________________________________________________________________________________________________\n",
      "input_mask (InputLayer)         [(None, 128)]        0                                            \n",
      "__________________________________________________________________________________________________\n",
      "segment_ids (InputLayer)        [(None, 128)]        0                                            \n",
      "__________________________________________________________________________________________________\n",
      "keras_layer (KerasLayer)        [(None, 1024), (None 333579265   input_word_ids[0][0]             \n",
      "                                                                 input_mask[0][0]                 \n",
      "                                                                 segment_ids[0][0]                \n",
      "__________________________________________________________________________________________________\n",
      "global_average_pooling1d (Globa (None, 1024)         0           keras_layer[0][1]                \n",
      "__________________________________________________________________________________________________\n",
      "dense (Dense)                   (None, 1024)         1049600     global_average_pooling1d[0][0]   \n",
      "__________________________________________________________________________________________________\n",
      "dense_output (Dense)            (None, 1)            1025        dense[0][0]                      \n",
      "==================================================================================================\n",
      "Total params: 334,629,890\n",
      "Trainable params: 1,050,625\n",
      "Non-trainable params: 333,579,265\n",
      "__________________________________________________________________________________________________\n"
     ]
    }
   ],
   "source": [
    "model.summary()"
   ]
  },
  {
   "cell_type": "code",
   "execution_count": 25,
   "metadata": {},
   "outputs": [
    {
     "name": "stdout",
     "output_type": "stream",
     "text": [
      "Train on 20000 samples, validate on 5000 samples\n",
      "Epoch 1/10\n",
      "20000/20000 [==============================] - 574s 29ms/sample - loss: 0.9346 - accuracy: 0.8212 - val_loss: 0.6997 - val_accuracy: 0.8350\n",
      "Epoch 2/10\n",
      "20000/20000 [==============================] - 558s 28ms/sample - loss: 0.6084 - accuracy: 0.8444 - val_loss: 0.5484 - val_accuracy: 0.8486\n",
      "Epoch 3/10\n",
      "20000/20000 [==============================] - 560s 28ms/sample - loss: 0.5112 - accuracy: 0.8461 - val_loss: 0.5003 - val_accuracy: 0.8334\n",
      "Epoch 4/10\n",
      "20000/20000 [==============================] - 560s 28ms/sample - loss: 0.4610 - accuracy: 0.8480 - val_loss: 0.5019 - val_accuracy: 0.8202\n",
      "Epoch 5/10\n",
      "20000/20000 [==============================] - 554s 28ms/sample - loss: 0.4299 - accuracy: 0.8517 - val_loss: 0.4078 - val_accuracy: 0.8604\n",
      "Epoch 6/10\n",
      "20000/20000 [==============================] - 559s 28ms/sample - loss: 0.4105 - accuracy: 0.8487 - val_loss: 0.3963 - val_accuracy: 0.8560\n",
      "Epoch 7/10\n",
      "20000/20000 [==============================] - 557s 28ms/sample - loss: 0.3969 - accuracy: 0.8563 - val_loss: 0.3858 - val_accuracy: 0.8584\n",
      "Epoch 8/10\n",
      "20000/20000 [==============================] - 557s 28ms/sample - loss: 0.3892 - accuracy: 0.8536 - val_loss: 0.3786 - val_accuracy: 0.8590\n",
      "Epoch 9/10\n",
      "20000/20000 [==============================] - 556s 28ms/sample - loss: 0.3794 - accuracy: 0.8558 - val_loss: 0.3720 - val_accuracy: 0.8590\n",
      "Epoch 10/10\n",
      "20000/20000 [==============================] - 553s 28ms/sample - loss: 0.3769 - accuracy: 0.8545 - val_loss: 0.3649 - val_accuracy: 0.8616\n"
     ]
    }
   ],
   "source": [
    "model_name=\"model_imdb_bert_classifier.hdf5\" \n",
    "#checkpointer = ModelCheckpoint(model_name, monitor='loss', save_best_only=True, mode='min')\n",
    "checkpointer = ModelCheckpoint(model_name, monitor='loss')\n",
    "history = model.fit(inputs, np.array(train_Y), epochs=10, batch_size=32, \n",
    "                    validation_split=0.2, shuffle=True, callbacks=[checkpointer])"
   ]
  },
  {
   "cell_type": "code",
   "execution_count": 26,
   "metadata": {},
   "outputs": [
    {
     "data": {
      "text/plain": [
       "[0.6997118298530579,\n",
       " 0.5483793245315551,\n",
       " 0.5002860488891602,\n",
       " 0.5019387849330902,\n",
       " 0.40775084857940674,\n",
       " 0.39633674602508545,\n",
       " 0.38584960789680484,\n",
       " 0.37861419858932494,\n",
       " 0.37201654443740845,\n",
       " 0.3649319619178772]"
      ]
     },
     "execution_count": 26,
     "metadata": {},
     "output_type": "execute_result"
    }
   ],
   "source": [
    "history.history['val_loss']"
   ]
  },
  {
   "cell_type": "code",
   "execution_count": 27,
   "metadata": {},
   "outputs": [],
   "source": [
    "trfile = open('imdb_bert_train_10.csv', \"ab\")    \n",
    "np.savetxt(trfile, [history.history['loss'], history.history['val_loss']], fmt=\"%2.6f\",delimiter=\",\")\n",
    "#np.savetxt(trfile, history.history['val_loss'], fmt=\"%2.6f\",delimiter=\",\")\n",
    "trfile.close()"
   ]
  },
  {
   "cell_type": "code",
   "execution_count": 28,
   "metadata": {},
   "outputs": [
    {
     "data": {
      "image/png": "[encoded data removed]",
      "text/plain": [
       "<Figure size 432x288 with 1 Axes>"
      ]
     },
     "metadata": {
      "needs_background": "light"
     },
     "output_type": "display_data"
    }
   ],
   "source": [
    "import seaborn as sns\n",
    "import pandas as pd \n",
    "\n",
    "df_result = pd.DataFrame({'epochs':history.epoch, \n",
    "                          'loss': history.history['loss'], \n",
    "                          'val_loss': history.history['val_loss']})\n",
    "\n",
    "g = sns.pointplot(x=\"epochs\", y=\"loss\", data=df_result, fit_reg=False)\n",
    "\n",
    "g = sns.pointplot(x=\"epochs\", y=\"val_loss\", data=df_result, fit_reg=False, color='green')"
   ]
  },
  {
   "cell_type": "code",
   "execution_count": 52,
   "metadata": {},
   "outputs": [],
   "source": [
    "test_inputs=create_input_array(test_X)"
   ]
  },
  {
   "cell_type": "code",
   "execution_count": 53,
   "metadata": {},
   "outputs": [],
   "source": [
    "results = model.predict(test_inputs)"
   ]
  },
  {
   "cell_type": "code",
   "execution_count": 54,
   "metadata": {},
   "outputs": [],
   "source": [
    "pred_Y=[]\n",
    "for i in range(len(results)):\n",
    "    if results[i] >= 0.5:\n",
    "        pred_Y.append(1)\n",
    "    else:\n",
    "        pred_Y.append(0)      "
   ]
  },
  {
   "cell_type": "code",
   "execution_count": 55,
   "metadata": {},
   "outputs": [],
   "source": [
    "res = []\n",
    "for i in range(len(test_Y)):\n",
    "    res.append([test_Y[i],pred_Y[i]])\n"
   ]
  },
  {
   "cell_type": "code",
   "execution_count": 33,
   "metadata": {},
   "outputs": [],
   "source": [
    "trfile = open('imdb_bert_test_10.csv', \"ab\")    \n",
    "np.savetxt(trfile, res, fmt=\"%2.6f\",delimiter=\",\")\n",
    "trfile.close()"
   ]
  },
  {
   "cell_type": "code",
   "execution_count": 34,
   "metadata": {},
   "outputs": [],
   "source": [
    "from sklearn.metrics import accuracy_score, f1_score, precision_score, recall_score\n",
    "from sklearn.metrics import classification_report, roc_curve, auc, confusion_matrix\n",
    "import seaborn as sns\n",
    "import pandas as pd\n",
    "import matplotlib.pyplot as plt"
   ]
  },
  {
   "cell_type": "code",
   "execution_count": 35,
   "metadata": {},
   "outputs": [
    {
     "data": {
      "text/plain": [
       "0.8550399999999999"
      ]
     },
     "execution_count": 35,
     "metadata": {},
     "output_type": "execute_result"
    }
   ],
   "source": [
    "fpr, tpr, thresholds = roc_curve(test_Y, pred_Y)\n",
    "auc(fpr, tpr)"
   ]
  },
  {
   "cell_type": "code",
   "execution_count": 36,
   "metadata": {},
   "outputs": [
    {
     "name": "stdout",
     "output_type": "stream",
     "text": [
      "precision :  0.85504\n",
      "recall :  0.85504\n",
      "f1_score :  0.85504\n",
      "accuracy_score :  0.85504\n"
     ]
    }
   ],
   "source": [
    "\n",
    "print(\"precision : \", precision_score(test_Y, pred_Y, average=\"micro\"))\n",
    "print(\"recall : \", recall_score(test_Y, pred_Y, average=\"micro\")) \n",
    "print(\"f1_score : \", f1_score(test_Y, pred_Y, average=\"micro\"))\n",
    "print(\"accuracy_score : \", accuracy_score(test_Y, pred_Y))\n",
    "#print(confusion_matrix(test_Y, pred_Y))"
   ]
  },
  {
   "cell_type": "code",
   "execution_count": 37,
   "metadata": {},
   "outputs": [
    {
     "name": "stdout",
     "output_type": "stream",
     "text": [
      "precision :  0.855411256343138\n",
      "recall :  0.85504\n",
      "f1_score :  0.8550021344454011\n",
      "accuracy_score :  0.85504\n"
     ]
    }
   ],
   "source": [
    "print(\"precision : \", precision_score(test_Y, pred_Y, average=\"macro\"))\n",
    "print(\"recall : \", recall_score(test_Y, pred_Y, average=\"macro\")) \n",
    "print(\"f1_score : \", f1_score(test_Y, pred_Y, average=\"macro\"))\n",
    "print(\"accuracy_score : \", accuracy_score(test_Y, pred_Y))"
   ]
  },
  {
   "cell_type": "code",
   "execution_count": 61,
   "metadata": {},
   "outputs": [],
   "source": [
    "#for i in range(len(pred_Y)):\n",
    "#    print(test_Y[i], pred_Y[i])"
   ]
  },
  {
   "cell_type": "code",
   "execution_count": 38,
   "metadata": {},
   "outputs": [
    {
     "name": "stdout",
     "output_type": "stream",
     "text": [
      "Train on 20000 samples, validate on 5000 samples\n",
      "Epoch 1/10\n",
      "20000/20000 [==============================] - 554s 28ms/sample - loss: 0.3693 - accuracy: 0.8576 - val_loss: 0.3765 - val_accuracy: 0.8512\n",
      "Epoch 2/10\n",
      "20000/20000 [==============================] - 556s 28ms/sample - loss: 0.3665 - accuracy: 0.8558 - val_loss: 0.3732 - val_accuracy: 0.8548\n",
      "Epoch 3/10\n",
      "20000/20000 [==============================] - 556s 28ms/sample - loss: 0.3643 - accuracy: 0.8555 - val_loss: 0.3677 - val_accuracy: 0.8564\n",
      "Epoch 4/10\n",
      "20000/20000 [==============================] - 556s 28ms/sample - loss: 0.3573 - accuracy: 0.8607 - val_loss: 0.3752 - val_accuracy: 0.8478\n",
      "Epoch 5/10\n",
      "20000/20000 [==============================] - 556s 28ms/sample - loss: 0.3569 - accuracy: 0.8590 - val_loss: 0.3724 - val_accuracy: 0.8484\n",
      "Epoch 6/10\n",
      "20000/20000 [==============================] - 558s 28ms/sample - loss: 0.3553 - accuracy: 0.8596 - val_loss: 0.3615 - val_accuracy: 0.8592\n",
      "Epoch 7/10\n",
      "20000/20000 [==============================] - 555s 28ms/sample - loss: 0.3509 - accuracy: 0.8616 - val_loss: 0.3617 - val_accuracy: 0.8558\n",
      "Epoch 8/10\n",
      "20000/20000 [==============================] - 555s 28ms/sample - loss: 0.3495 - accuracy: 0.8635 - val_loss: 0.3568 - val_accuracy: 0.8612\n",
      "Epoch 9/10\n",
      "20000/20000 [==============================] - 556s 28ms/sample - loss: 0.3479 - accuracy: 0.8615 - val_loss: 0.3581 - val_accuracy: 0.8582\n",
      "Epoch 10/10\n",
      "20000/20000 [==============================] - 556s 28ms/sample - loss: 0.3432 - accuracy: 0.8666 - val_loss: 0.3903 - val_accuracy: 0.8456\n"
     ]
    }
   ],
   "source": [
    "model_name=\"model_imdb_bert_classifier.hdf5\" \n",
    "#checkpointer = ModelCheckpoint(model_name, monitor='loss', save_best_only=True, mode='min')\n",
    "checkpointer = ModelCheckpoint(model_name, monitor='loss')\n",
    "history = model.fit(inputs, np.array(train_Y), epochs=10, batch_size=32, \n",
    "                    validation_split=0.2, shuffle=True, callbacks=[checkpointer])"
   ]
  },
  {
   "cell_type": "code",
   "execution_count": 39,
   "metadata": {},
   "outputs": [],
   "source": [
    "trfile = open('imdb_bert_train_20.csv', \"ab\")    \n",
    "np.savetxt(trfile, [history.history['loss'], history.history['val_loss']], fmt=\"%2.6f\",delimiter=\",\")\n",
    "#np.savetxt(trfile, history.history['val_loss'], fmt=\"%2.6f\",delimiter=\",\")\n",
    "trfile.close()"
   ]
  },
  {
   "cell_type": "code",
   "execution_count": 40,
   "metadata": {},
   "outputs": [
    {
     "data": {
      "image/png": "[encoded data removed]",
      "text/plain": [
       "<Figure size 432x288 with 1 Axes>"
      ]
     },
     "metadata": {
      "needs_background": "light"
     },
     "output_type": "display_data"
    }
   ],
   "source": [
    "import seaborn as sns\n",
    "import pandas as pd \n",
    "\n",
    "df_result = pd.DataFrame({'epochs':history.epoch, \n",
    "                          'loss': history.history['loss'], \n",
    "                          'val_loss': history.history['val_loss']})\n",
    "\n",
    "g = sns.pointplot(x=\"epochs\", y=\"loss\", data=df_result, fit_reg=False)\n",
    "\n",
    "g = sns.pointplot(x=\"epochs\", y=\"val_loss\", data=df_result, fit_reg=False, color='green')"
   ]
  },
  {
   "cell_type": "code",
   "execution_count": 45,
   "metadata": {},
   "outputs": [],
   "source": [
    "trfile = open('imdb_bert_test_20.csv', \"ab\")    \n",
    "np.savetxt(trfile, res, fmt=\"%2.6f\",delimiter=\",\")\n",
    "trfile.close()"
   ]
  },
  {
   "cell_type": "code",
   "execution_count": 46,
   "metadata": {},
   "outputs": [
    {
     "data": {
      "text/plain": [
       "0.8357199999999999"
      ]
     },
     "execution_count": 46,
     "metadata": {},
     "output_type": "execute_result"
    }
   ],
   "source": [
    "fpr, tpr, thresholds = roc_curve(test_Y, pred_Y)\n",
    "auc(fpr, tpr)"
   ]
  },
  {
   "cell_type": "code",
   "execution_count": 47,
   "metadata": {},
   "outputs": [
    {
     "name": "stdout",
     "output_type": "stream",
     "text": [
      "precision :  0.83572\n",
      "recall :  0.83572\n",
      "f1_score :  0.83572\n",
      "accuracy_score :  0.83572\n"
     ]
    }
   ],
   "source": [
    "print(\"precision : \", precision_score(test_Y, pred_Y, average=\"micro\"))\n",
    "print(\"recall : \", recall_score(test_Y, pred_Y, average=\"micro\")) \n",
    "print(\"f1_score : \", f1_score(test_Y, pred_Y, average=\"micro\"))\n",
    "print(\"accuracy_score : \", accuracy_score(test_Y, pred_Y))\n",
    "#print(confusion_matrix(test_Y, pred_Y))"
   ]
  },
  {
   "cell_type": "code",
   "execution_count": 48,
   "metadata": {},
   "outputs": [
    {
     "name": "stdout",
     "output_type": "stream",
     "text": [
      "precision :  0.8443333562139491\n",
      "recall :  0.83572\n",
      "f1_score :  0.8346861858613415\n",
      "accuracy_score :  0.83572\n"
     ]
    }
   ],
   "source": [
    "print(\"precision : \", precision_score(test_Y, pred_Y, average=\"macro\"))\n",
    "print(\"recall : \", recall_score(test_Y, pred_Y, average=\"macro\")) \n",
    "print(\"f1_score : \", f1_score(test_Y, pred_Y, average=\"macro\"))\n",
    "print(\"accuracy_score : \", accuracy_score(test_Y, pred_Y))"
   ]
  },
  {
   "cell_type": "code",
   "execution_count": 49,
   "metadata": {},
   "outputs": [
    {
     "name": "stdout",
     "output_type": "stream",
     "text": [
      "Train on 20000 samples, validate on 5000 samples\n",
      "Epoch 1/30\n",
      "20000/20000 [==============================] - 553s 28ms/sample - loss: 0.3431 - accuracy: 0.8639 - val_loss: 0.3605 - val_accuracy: 0.8584\n",
      "Epoch 2/30\n",
      "20000/20000 [==============================] - 557s 28ms/sample - loss: 0.3402 - accuracy: 0.8666 - val_loss: 0.3507 - val_accuracy: 0.8652\n",
      "Epoch 3/30\n",
      "20000/20000 [==============================] - 559s 28ms/sample - loss: 0.3388 - accuracy: 0.8665 - val_loss: 0.3529 - val_accuracy: 0.8662\n",
      "Epoch 4/30\n",
      "20000/20000 [==============================] - 559s 28ms/sample - loss: 0.3343 - accuracy: 0.8701 - val_loss: 0.3604 - val_accuracy: 0.8540\n",
      "Epoch 5/30\n",
      "20000/20000 [==============================] - 556s 28ms/sample - loss: 0.3354 - accuracy: 0.8681 - val_loss: 0.3981 - val_accuracy: 0.8276\n",
      "Epoch 6/30\n",
      "20000/20000 [==============================] - 554s 28ms/sample - loss: 0.3320 - accuracy: 0.8722 - val_loss: 0.3516 - val_accuracy: 0.8624\n",
      "Epoch 7/30\n",
      "20000/20000 [==============================] - 559s 28ms/sample - loss: 0.3292 - accuracy: 0.8715 - val_loss: 0.3553 - val_accuracy: 0.8636\n",
      "Epoch 8/30\n",
      "20000/20000 [==============================] - 557s 28ms/sample - loss: 0.3329 - accuracy: 0.8688 - val_loss: 0.3633 - val_accuracy: 0.8598\n",
      "Epoch 9/30\n",
      "20000/20000 [==============================] - 559s 28ms/sample - loss: 0.3291 - accuracy: 0.8737 - val_loss: 0.3567 - val_accuracy: 0.8612\n",
      "Epoch 10/30\n",
      "20000/20000 [==============================] - 553s 28ms/sample - loss: 0.3266 - accuracy: 0.8758 - val_loss: 0.3620 - val_accuracy: 0.8540\n",
      "Epoch 11/30\n",
      "20000/20000 [==============================] - 559s 28ms/sample - loss: 0.3232 - accuracy: 0.8773 - val_loss: 0.3491 - val_accuracy: 0.8670\n",
      "Epoch 12/30\n",
      "20000/20000 [==============================] - 560s 28ms/sample - loss: 0.3253 - accuracy: 0.8735 - val_loss: 0.3541 - val_accuracy: 0.8632\n",
      "Epoch 13/30\n",
      "20000/20000 [==============================] - 556s 28ms/sample - loss: 0.3234 - accuracy: 0.8770 - val_loss: 0.3608 - val_accuracy: 0.8576\n",
      "Epoch 14/30\n",
      "20000/20000 [==============================] - 556s 28ms/sample - loss: 0.3193 - accuracy: 0.8788 - val_loss: 0.3532 - val_accuracy: 0.8660\n",
      "Epoch 15/30\n",
      "20000/20000 [==============================] - 559s 28ms/sample - loss: 0.3214 - accuracy: 0.8787 - val_loss: 0.3512 - val_accuracy: 0.8662\n",
      "Epoch 16/30\n",
      "20000/20000 [==============================] - 559s 28ms/sample - loss: 0.3158 - accuracy: 0.8819 - val_loss: 0.3516 - val_accuracy: 0.8632\n",
      "Epoch 17/30\n",
      "20000/20000 [==============================] - 556s 28ms/sample - loss: 0.3143 - accuracy: 0.8816 - val_loss: 0.3516 - val_accuracy: 0.8666\n",
      "Epoch 18/30\n",
      "20000/20000 [==============================] - 556s 28ms/sample - loss: 0.3123 - accuracy: 0.8835 - val_loss: 0.3701 - val_accuracy: 0.8510\n",
      "Epoch 19/30\n",
      "20000/20000 [==============================] - 559s 28ms/sample - loss: 0.3093 - accuracy: 0.8860 - val_loss: 0.3616 - val_accuracy: 0.8606\n",
      "Epoch 20/30\n",
      "20000/20000 [==============================] - 561s 28ms/sample - loss: 0.3062 - accuracy: 0.8867 - val_loss: 0.3657 - val_accuracy: 0.8572\n",
      "Epoch 21/30\n",
      "20000/20000 [==============================] - 557s 28ms/sample - loss: 0.3095 - accuracy: 0.8855 - val_loss: 0.3731 - val_accuracy: 0.8534\n",
      "Epoch 22/30\n",
      "20000/20000 [==============================] - 557s 28ms/sample - loss: 0.3079 - accuracy: 0.8861 - val_loss: 0.3760 - val_accuracy: 0.8534\n",
      "Epoch 23/30\n",
      "20000/20000 [==============================] - 559s 28ms/sample - loss: 0.3082 - accuracy: 0.8842 - val_loss: 0.3515 - val_accuracy: 0.8684\n",
      "Epoch 24/30\n",
      "20000/20000 [==============================] - 559s 28ms/sample - loss: 0.3029 - accuracy: 0.8892 - val_loss: 0.3620 - val_accuracy: 0.8600\n",
      "Epoch 25/30\n",
      "20000/20000 [==============================] - 555s 28ms/sample - loss: 0.3020 - accuracy: 0.8905 - val_loss: 0.3629 - val_accuracy: 0.8622\n",
      "Epoch 26/30\n",
      "20000/20000 [==============================] - 556s 28ms/sample - loss: 0.3001 - accuracy: 0.8924 - val_loss: 0.3657 - val_accuracy: 0.8592\n",
      "Epoch 27/30\n",
      "20000/20000 [==============================] - 560s 28ms/sample - loss: 0.3022 - accuracy: 0.8913 - val_loss: 0.3948 - val_accuracy: 0.8440\n",
      "Epoch 28/30\n",
      "20000/20000 [==============================] - 559s 28ms/sample - loss: 0.2980 - accuracy: 0.8924 - val_loss: 0.3563 - val_accuracy: 0.8648\n",
      "Epoch 29/30\n",
      "20000/20000 [==============================] - 553s 28ms/sample - loss: 0.2938 - accuracy: 0.8947 - val_loss: 0.3662 - val_accuracy: 0.8596\n",
      "Epoch 30/30\n",
      "20000/20000 [==============================] - 554s 28ms/sample - loss: 0.2963 - accuracy: 0.8938 - val_loss: 0.3612 - val_accuracy: 0.8622\n"
     ]
    }
   ],
   "source": [
    "model_name=\"model_imdb_bert_classifier.hdf5\" \n",
    "#checkpointer = ModelCheckpoint(model_name, monitor='loss', save_best_only=True, mode='min')\n",
    "checkpointer = ModelCheckpoint(model_name, monitor='loss')\n",
    "history = model.fit(inputs, np.array(train_Y), epochs=30, batch_size=32, \n",
    "                    validation_split=0.2, shuffle=True, callbacks=[checkpointer])"
   ]
  },
  {
   "cell_type": "code",
   "execution_count": 50,
   "metadata": {},
   "outputs": [],
   "source": [
    "trfile = open('imdb_bert_train_50.csv', \"ab\")    \n",
    "np.savetxt(trfile, [history.history['loss'], history.history['val_loss']], fmt=\"%2.6f\",delimiter=\",\")\n",
    "#np.savetxt(trfile, history.history['val_loss'], fmt=\"%2.6f\",delimiter=\",\")\n",
    "trfile.close()"
   ]
  },
  {
   "cell_type": "code",
   "execution_count": 51,
   "metadata": {},
   "outputs": [
    {
     "data": {
      "image/png": "[encoded data removed]",
      "text/plain": [
       "<Figure size 432x288 with 1 Axes>"
      ]
     },
     "metadata": {
      "needs_background": "light"
     },
     "output_type": "display_data"
    }
   ],
   "source": [
    "import seaborn as sns\n",
    "import pandas as pd \n",
    "\n",
    "df_result = pd.DataFrame({'epochs':history.epoch, \n",
    "                          'loss': history.history['loss'], \n",
    "                          'val_loss': history.history['val_loss']})\n",
    "\n",
    "g = sns.pointplot(x=\"epochs\", y=\"loss\", data=df_result, fit_reg=False)\n",
    "\n",
    "g = sns.pointplot(x=\"epochs\", y=\"val_loss\", data=df_result, fit_reg=False, color='green')"
   ]
  },
  {
   "cell_type": "code",
   "execution_count": 56,
   "metadata": {},
   "outputs": [],
   "source": [
    "trfile = open('imdb_bert_test_50.csv', \"ab\")    \n",
    "np.savetxt(trfile, res, fmt=\"%2.6f\",delimiter=\",\")\n",
    "trfile.close()"
   ]
  },
  {
   "cell_type": "code",
   "execution_count": 57,
   "metadata": {},
   "outputs": [
    {
     "data": {
      "text/plain": [
       "0.85288"
      ]
     },
     "execution_count": 57,
     "metadata": {},
     "output_type": "execute_result"
    }
   ],
   "source": [
    "fpr, tpr, thresholds = roc_curve(test_Y, pred_Y)\n",
    "auc(fpr, tpr)"
   ]
  },
  {
   "cell_type": "code",
   "execution_count": 58,
   "metadata": {},
   "outputs": [
    {
     "name": "stdout",
     "output_type": "stream",
     "text": [
      "precision :  0.85288\n",
      "recall :  0.85288\n",
      "f1_score :  0.85288\n",
      "accuracy_score :  0.85288\n"
     ]
    }
   ],
   "source": [
    "\n",
    "print(\"precision : \", precision_score(test_Y, pred_Y, average=\"micro\"))\n",
    "print(\"recall : \", recall_score(test_Y, pred_Y, average=\"micro\")) \n",
    "print(\"f1_score : \", f1_score(test_Y, pred_Y, average=\"micro\"))\n",
    "print(\"accuracy_score : \", accuracy_score(test_Y, pred_Y))\n",
    "#print(confusion_matrix(test_Y, pred_Y))"
   ]
  },
  {
   "cell_type": "code",
   "execution_count": 59,
   "metadata": {},
   "outputs": [
    {
     "name": "stdout",
     "output_type": "stream",
     "text": [
      "precision :  0.8529335691041592\n",
      "recall :  0.8528800000000001\n",
      "f1_score :  0.8528744172314865\n",
      "accuracy_score :  0.85288\n"
     ]
    }
   ],
   "source": [
    "print(\"precision : \", precision_score(test_Y, pred_Y, average=\"macro\"))\n",
    "print(\"recall : \", recall_score(test_Y, pred_Y, average=\"macro\")) \n",
    "print(\"f1_score : \", f1_score(test_Y, pred_Y, average=\"macro\"))\n",
    "print(\"accuracy_score : \", accuracy_score(test_Y, pred_Y))"
   ]
  },
  {
   "cell_type": "code",
   "execution_count": null,
   "metadata": {},
   "outputs": [],
   "source": []
  }
 ],
 "metadata": {
  "kernelspec": {
   "display_name": "Python 3 (ipykernel)",
   "language": "python",
   "name": "python3"
  },
  "language_info": {
   "codemirror_mode": {
    "name": "ipython",
    "version": 3
   },
   "file_extension": ".py",
   "mimetype": "text/x-python",
   "name": "python",
   "nbconvert_exporter": "python",
   "pygments_lexer": "ipython3",
   "version": "3.9.13"
  }
 },
 "nbformat": 4,
 "nbformat_minor": 4
}
