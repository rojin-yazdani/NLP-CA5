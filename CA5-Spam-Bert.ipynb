{
 "cells": [
  {
   "cell_type": "code",
   "execution_count": 70,
   "metadata": {},
   "outputs": [],
   "source": [
    "import pandas as pd \n",
    "import numpy as np\n",
    "import re\n",
    "import random\n",
    "import math\n",
    "from bs4 import BeautifulSoup"
   ]
  },
  {
   "cell_type": "code",
   "execution_count": 2,
   "metadata": {},
   "outputs": [],
   "source": [
    "import tensorflow as tf\n",
    "import tensorflow.keras as keras\n",
    "import tensorflow_hub as hub\n",
    "from tensorflow.keras import layers\n",
    "from tensorflow.keras.layers import Dense, LSTM, InputLayer, Bidirectional, TimeDistributed, Embedding, Activation\n",
    "from tensorflow.keras.optimizers import Adam\n",
    "from tensorflow.keras.callbacks import ModelCheckpoint\n",
    "from tensorflow.keras.models import Sequential, load_model\n",
    "\n",
    "import bert"
   ]
  },
  {
   "cell_type": "code",
   "execution_count": 71,
   "metadata": {},
   "outputs": [
    {
     "name": "stdout",
     "output_type": "stream",
     "text": [
      "(5572, 5)\n"
     ]
    }
   ],
   "source": [
    "spamTexts = pd.read_csv('spam.csv', engine='python')\n",
    "print(spamTexts.shape)"
   ]
  },
  {
   "cell_type": "code",
   "execution_count": 4,
   "metadata": {},
   "outputs": [
    {
     "data": {
      "text/html": [
       "<div>\n",
       "<style scoped>\n",
       "    .dataframe tbody tr th:only-of-type {\n",
       "        vertical-align: middle;\n",
       "    }\n",
       "\n",
       "    .dataframe tbody tr th {\n",
       "        vertical-align: top;\n",
       "    }\n",
       "\n",
       "    .dataframe thead th {\n",
       "        text-align: right;\n",
       "    }\n",
       "</style>\n",
       "<table border=\"1\" class=\"dataframe\">\n",
       "  <thead>\n",
       "    <tr style=\"text-align: right;\">\n",
       "      <th></th>\n",
       "      <th>v1</th>\n",
       "      <th>v2</th>\n",
       "      <th>Unnamed: 2</th>\n",
       "      <th>Unnamed: 3</th>\n",
       "      <th>Unnamed: 4</th>\n",
       "    </tr>\n",
       "  </thead>\n",
       "  <tbody>\n",
       "    <tr>\n",
       "      <th>count</th>\n",
       "      <td>5572</td>\n",
       "      <td>5572</td>\n",
       "      <td>50</td>\n",
       "      <td>12</td>\n",
       "      <td>6</td>\n",
       "    </tr>\n",
       "    <tr>\n",
       "      <th>unique</th>\n",
       "      <td>2</td>\n",
       "      <td>5169</td>\n",
       "      <td>43</td>\n",
       "      <td>10</td>\n",
       "      <td>5</td>\n",
       "    </tr>\n",
       "    <tr>\n",
       "      <th>top</th>\n",
       "      <td>ham</td>\n",
       "      <td>Sorry, I'll call later</td>\n",
       "      <td>bt not his girlfrnd... G o o d n i g h t . . .@\"</td>\n",
       "      <td>GE</td>\n",
       "      <td>GNT:-)\"</td>\n",
       "    </tr>\n",
       "    <tr>\n",
       "      <th>freq</th>\n",
       "      <td>4825</td>\n",
       "      <td>30</td>\n",
       "      <td>3</td>\n",
       "      <td>2</td>\n",
       "      <td>2</td>\n",
       "    </tr>\n",
       "  </tbody>\n",
       "</table>\n",
       "</div>"
      ],
      "text/plain": [
       "          v1                      v2  \\\n",
       "count   5572                    5572   \n",
       "unique     2                    5169   \n",
       "top      ham  Sorry, I'll call later   \n",
       "freq    4825                      30   \n",
       "\n",
       "                                               Unnamed: 2 Unnamed: 3  \\\n",
       "count                                                  50         12   \n",
       "unique                                                 43         10   \n",
       "top      bt not his girlfrnd... G o o d n i g h t . . .@\"         GE   \n",
       "freq                                                    3          2   \n",
       "\n",
       "       Unnamed: 4  \n",
       "count           6  \n",
       "unique          5  \n",
       "top       GNT:-)\"  \n",
       "freq            2  "
      ]
     },
     "execution_count": 4,
     "metadata": {},
     "output_type": "execute_result"
    }
   ],
   "source": [
    "spamTexts.describe()"
   ]
  },
  {
   "cell_type": "code",
   "execution_count": 5,
   "metadata": {},
   "outputs": [
    {
     "data": {
      "image/png": "[encoded data removed]",
      "text/plain": [
       "<Figure size 720x432 with 1 Axes>"
      ]
     },
     "metadata": {
      "needs_background": "light"
     },
     "output_type": "display_data"
    }
   ],
   "source": [
    "import matplotlib.pyplot as plt\n",
    "plt.figure(figsize=(10, 6))\n",
    "plt.hist([len(sample) for sample in list(spamTexts['v2'])], 100)\n",
    "plt.xlabel('Length of texts')\n",
    "plt.ylabel('Number of texts')\n",
    "plt.title('texts length distribution')\n",
    "plt.show()"
   ]
  },
  {
   "cell_type": "code",
   "execution_count": 6,
   "metadata": {},
   "outputs": [
    {
     "name": "stdout",
     "output_type": "stream",
     "text": [
      "len of shotest text :  2\n",
      "len of longest text :  910\n"
     ]
    }
   ],
   "source": [
    "print(\"len of shotest text : \", len(min(spamTexts['v2'], key=len)))\n",
    "print(\"len of longest text : \", len(max(spamTexts['v2'], key=len)))"
   ]
  },
  {
   "cell_type": "code",
   "execution_count": 72,
   "metadata": {},
   "outputs": [
    {
     "data": {
      "text/plain": [
       "<matplotlib.axes._subplots.AxesSubplot at 0x1d55e994668>"
      ]
     },
     "execution_count": 72,
     "metadata": {},
     "output_type": "execute_result"
    },
    {
     "data": {
      "image/png": "[encoded data removed]",
      "text/plain": [
       "<Figure size 432x288 with 1 Axes>"
      ]
     },
     "metadata": {
      "needs_background": "light"
     },
     "output_type": "display_data"
    }
   ],
   "source": [
    "import seaborn as sns\n",
    "sns.countplot(x='v1',data=spamTexts)"
   ]
  },
  {
   "cell_type": "code",
   "execution_count": 7,
   "metadata": {},
   "outputs": [],
   "source": [
    "def denoise_text(text):    \n",
    "    # Remove the html strips\n",
    "    soup = BeautifulSoup(text, \"html.parser\")\n",
    "    text = soup.get_text()\n",
    "    \n",
    "    # Remove digits and punctuations \n",
    "    pattern=r'[^a-zA-Z]'\n",
    "    text=re.sub(pattern,' ',text)\n",
    "    \n",
    "    # Remove single characters\n",
    "    text = re.sub(r\"\\s+[a-zA-Z]\\s+\", ' ', text)\n",
    "    \n",
    "    # Remove multiple spaces\n",
    "    text = re.sub(r'\\s+', ' ', text)\n",
    "        \n",
    "    return text"
   ]
  },
  {
   "cell_type": "code",
   "execution_count": 8,
   "metadata": {},
   "outputs": [],
   "source": [
    "clean_texts = []\n",
    "sentences = list(spamTexts['v2'])\n",
    "for sen in sentences:\n",
    "    clean_texts.append(denoise_text(sen))"
   ]
  },
  {
   "cell_type": "code",
   "execution_count": 9,
   "metadata": {},
   "outputs": [
    {
     "data": {
      "text/plain": [
       "'Go until jurong point crazy Available only in bugis great world la buffet Cine there got amore wat '"
      ]
     },
     "execution_count": 9,
     "metadata": {},
     "output_type": "execute_result"
    }
   ],
   "source": [
    "clean_texts[0]"
   ]
  },
  {
   "cell_type": "code",
   "execution_count": 10,
   "metadata": {},
   "outputs": [
    {
     "data": {
      "text/plain": [
       "'Go until jurong point, crazy.. Available only in bugis n great world la e buffet... Cine there got amore wat...'"
      ]
     },
     "execution_count": 10,
     "metadata": {},
     "output_type": "execute_result"
    }
   ],
   "source": [
    "spamTexts['v2'][0]"
   ]
  },
  {
   "cell_type": "code",
   "execution_count": 11,
   "metadata": {},
   "outputs": [
    {
     "name": "stdout",
     "output_type": "stream",
     "text": [
      "['v1' 'v2' 'Unnamed: 2' 'Unnamed: 3' 'Unnamed: 4']\n"
     ]
    },
    {
     "data": {
      "text/plain": [
       "array(['ham', 'spam'], dtype=object)"
      ]
     },
     "execution_count": 11,
     "metadata": {},
     "output_type": "execute_result"
    }
   ],
   "source": [
    "print(spamTexts.columns.values)\n",
    "spamTexts.v1.unique()"
   ]
  },
  {
   "cell_type": "code",
   "execution_count": 12,
   "metadata": {},
   "outputs": [],
   "source": [
    "y = spamTexts['v1']\n",
    "\n",
    "y = np.array(list(map(lambda x: 1 if x==\"spam\" else 0, y)))"
   ]
  },
  {
   "cell_type": "code",
   "execution_count": 13,
   "metadata": {},
   "outputs": [
    {
     "name": "stdout",
     "output_type": "stream",
     "text": [
      "I gonna be home soon and don want to talk about this stuff anymore tonight I ve cried enough today \n",
      "0\n"
     ]
    }
   ],
   "source": [
    "print(clean_texts[10])\n",
    "print(y[10])"
   ]
  },
  {
   "cell_type": "code",
   "execution_count": 14,
   "metadata": {},
   "outputs": [],
   "source": [
    "clean_texts_with_y = [[txt, y[i]] for i, txt in enumerate(clean_texts)]"
   ]
  },
  {
   "cell_type": "code",
   "execution_count": 15,
   "metadata": {},
   "outputs": [],
   "source": [
    "random.shuffle(clean_texts_with_y)"
   ]
  },
  {
   "cell_type": "code",
   "execution_count": 16,
   "metadata": {},
   "outputs": [
    {
     "data": {
      "text/plain": [
       "'Doc prescribed me morphine cause the other pain meds aren enough Waiting for my mom to bring it That med should kick in fast so m gonna try to be on later'"
      ]
     },
     "execution_count": 16,
     "metadata": {},
     "output_type": "execute_result"
    }
   ],
   "source": [
    "clean_texts_with_y[0][0]"
   ]
  },
  {
   "cell_type": "code",
   "execution_count": 17,
   "metadata": {},
   "outputs": [
    {
     "name": "stdout",
     "output_type": "stream",
     "text": [
      "train_size: 4458\n",
      "test_size: 1114\n"
     ]
    }
   ],
   "source": [
    "train_X ,train_Y, test_X, test_Y = [], [], [], []\n",
    "\n",
    "train_size = math.ceil(len(clean_texts_with_y)*0.8)\n",
    "\n",
    "for e in clean_texts_with_y[:train_size]:\n",
    "    train_X.append(e[0])\n",
    "    train_Y.append(e[1])\n",
    "\n",
    "for e in clean_texts_with_y[train_size:]:\n",
    "    test_X.append(e[0])\n",
    "    test_Y.append(e[1])\n",
    "    \n",
    "print(\"train_size:\",len(train_X))\n",
    "print(\"test_size:\",len(test_X))"
   ]
  },
  {
   "cell_type": "code",
   "execution_count": 18,
   "metadata": {},
   "outputs": [],
   "source": [
    "#bert_layer = hub.KerasLayer(\"https://tfhub.dev/tensorflow/bert_en_uncased_L-12_H-768_A-12/1\", trainable=False)\n",
    "bert_layer = hub.KerasLayer(\"F:\\\\Projects\\\\bertmodel\", trainable=False)"
   ]
  },
  {
   "cell_type": "code",
   "execution_count": 19,
   "metadata": {},
   "outputs": [],
   "source": [
    "BertTokenizer=bert.bert_tokenization.FullTokenizer\n",
    " \n",
    "vocab_file=bert_layer.resolved_object.vocab_file.asset_path.numpy()\n",
    "\n",
    "do_lower_case=bert_layer.resolved_object.do_lower_case.numpy()\n",
    " \n",
    "tokenizer=BertTokenizer(vocab_file,do_lower_case)"
   ]
  },
  {
   "cell_type": "code",
   "execution_count": 20,
   "metadata": {},
   "outputs": [
    {
     "name": "stdout",
     "output_type": "stream",
     "text": [
      "['I', 'don', \"'\", 't', 'like', 'this', 'movie']\n",
      "[146, 1274, 112, 189, 1176, 1142, 2523]\n"
     ]
    }
   ],
   "source": [
    "print(tokenizer.tokenize(\"I don't like this movie\"))\n",
    "print(tokenizer.convert_tokens_to_ids(tokenizer.tokenize(\"I don't like this movie\")))"
   ]
  },
  {
   "cell_type": "code",
   "execution_count": 21,
   "metadata": {},
   "outputs": [],
   "source": [
    "def get_ids_masks_segs(tokens, tokenizer, max_seq_length):\n",
    "    \n",
    "    segments = []\n",
    "    current_segment_id = 0\n",
    "    for token in tokens:\n",
    "        segments.append(current_segment_id)\n",
    "        if token == \"[SEP]\":\n",
    "            current_segment_id = 1\n",
    "            \n",
    "    token_ids = tokenizer.convert_tokens_to_ids(tokens,)\n",
    "    if len(token_ids) < max_seq_length:\n",
    "        input_ids = token_ids + [0] * (max_seq_length - len(token_ids))\n",
    "        masks = [1]*len(tokens) + [0] * (max_seq_length - len(tokens))\n",
    "        segments = segments + [0] * (max_seq_length - len(tokens))\n",
    "    else:\n",
    "        input_ids = token_ids[:max_seq_length]\n",
    "        masks = [1] * max_seq_length\n",
    "        segments = segments[:max_seq_length]\n",
    "    \n",
    "    return input_ids, masks, segments"
   ]
  },
  {
   "cell_type": "code",
   "execution_count": 22,
   "metadata": {},
   "outputs": [],
   "source": [
    "from tqdm import tqdm\n",
    "MAX_SEQ_LEN = 128\n",
    "def create_input_array(sentences):\n",
    "    \n",
    "    input_ids, input_masks, input_segments = [], [], []\n",
    "\n",
    "    for sentence in sentences: # tqdm(sentences, position=0, leave=True):\n",
    "        tokens = tokenizer.tokenize(sentence)  \n",
    "        tokens = tokens[:MAX_SEQ_LEN-2]\n",
    "  \n",
    "        tokens = [\"[CLS]\"] + tokens + [\"[SEP]\"]\n",
    "        ids, masks, segments = get_ids_masks_segs(tokens, tokenizer, MAX_SEQ_LEN)        \n",
    "\n",
    "        input_ids.append(ids)\n",
    "        input_masks.append(masks)\n",
    "        input_segments.append(segments)\n",
    "\n",
    "    return [np.asarray(input_ids, dtype=np.int32), \n",
    "            np.asarray(input_masks, dtype=np.int32), \n",
    "            np.asarray(input_segments, dtype=np.int32)]"
   ]
  },
  {
   "cell_type": "code",
   "execution_count": 23,
   "metadata": {},
   "outputs": [],
   "source": [
    "inputs = create_input_array(train_X)"
   ]
  },
  {
   "cell_type": "code",
   "execution_count": 24,
   "metadata": {},
   "outputs": [
    {
     "name": "stdout",
     "output_type": "stream",
     "text": [
      "(4458, 128)\n",
      "(4458, 128)\n",
      "(4458, 128)\n",
      "[  101  2185  1122  9979  1209  1294  1128  7015  1114  4687  1821  1280\n",
      "  1106 15933  1240  3919  1114  1139 14458   102     0     0     0     0\n",
      "     0     0     0     0     0     0     0     0     0     0     0     0\n",
      "     0     0     0     0     0     0     0     0     0     0     0     0\n",
      "     0     0     0     0     0     0     0     0     0     0     0     0\n",
      "     0     0     0     0     0     0     0     0     0     0     0     0\n",
      "     0     0     0     0     0     0     0     0     0     0     0     0\n",
      "     0     0     0     0     0     0     0     0     0     0     0     0\n",
      "     0     0     0     0     0     0     0     0     0     0     0     0\n",
      "     0     0     0     0     0     0     0     0     0     0     0     0\n",
      "     0     0     0     0     0     0     0     0]\n",
      "[1 1 1 1 1 1 1 1 1 1 1 1 1 1 1 1 1 1 1 1 0 0 0 0 0 0 0 0 0 0 0 0 0 0 0 0 0\n",
      " 0 0 0 0 0 0 0 0 0 0 0 0 0 0 0 0 0 0 0 0 0 0 0 0 0 0 0 0 0 0 0 0 0 0 0 0 0\n",
      " 0 0 0 0 0 0 0 0 0 0 0 0 0 0 0 0 0 0 0 0 0 0 0 0 0 0 0 0 0 0 0 0 0 0 0 0 0\n",
      " 0 0 0 0 0 0 0 0 0 0 0 0 0 0 0 0 0]\n",
      "[0 0 0 0 0 0 0 0 0 0 0 0 0 0 0 0 0 0 0 0 0 0 0 0 0 0 0 0 0 0 0 0 0 0 0 0 0\n",
      " 0 0 0 0 0 0 0 0 0 0 0 0 0 0 0 0 0 0 0 0 0 0 0 0 0 0 0 0 0 0 0 0 0 0 0 0 0\n",
      " 0 0 0 0 0 0 0 0 0 0 0 0 0 0 0 0 0 0 0 0 0 0 0 0 0 0 0 0 0 0 0 0 0 0 0 0 0\n",
      " 0 0 0 0 0 0 0 0 0 0 0 0 0 0 0 0 0]\n"
     ]
    }
   ],
   "source": [
    "print(inputs[0].shape)\n",
    "print(inputs[1].shape)\n",
    "print(inputs[2].shape)\n",
    "\n",
    "print(inputs[0][10])\n",
    "print(inputs[1][10])\n",
    "print(inputs[2][10])"
   ]
  },
  {
   "cell_type": "code",
   "execution_count": 25,
   "metadata": {},
   "outputs": [],
   "source": [
    "input_word_ids = tf.keras.layers.Input(shape=(MAX_SEQ_LEN,), dtype=tf.int32, name=\"input_word_ids\")\n",
    "input_mask = tf.keras.layers.Input(shape=(MAX_SEQ_LEN,), dtype=tf.int32, name=\"input_mask\")\n",
    "segment_ids = tf.keras.layers.Input(shape=(MAX_SEQ_LEN,), dtype=tf.int32, name=\"segment_ids\")"
   ]
  },
  {
   "cell_type": "code",
   "execution_count": 26,
   "metadata": {},
   "outputs": [],
   "source": [
    "pooled_output, sequence_output = bert_layer([input_word_ids, input_mask, segment_ids])"
   ]
  },
  {
   "cell_type": "code",
   "execution_count": 27,
   "metadata": {},
   "outputs": [
    {
     "name": "stdout",
     "output_type": "stream",
     "text": [
      "(None, None, 1024)\n",
      "(None, 1024)\n"
     ]
    }
   ],
   "source": [
    "print(sequence_output.shape)\n",
    "print(pooled_output.shape)"
   ]
  },
  {
   "cell_type": "code",
   "execution_count": 28,
   "metadata": {},
   "outputs": [],
   "source": [
    "hidden_units = 1024\n",
    "learning_rate = 0.0002\n",
    "\n",
    "x = tf.keras.layers.GlobalAveragePooling1D()(sequence_output)\n",
    "#x = tf.keras.layers.Dropout(0.2)(x)\n",
    "#x = tf.keras.layers.Dense(units=hidden_units, activation='sigmoid')(x)\n",
    "x = tf.keras.layers.Dense(units=hidden_units, activation='relu', kernel_regularizer=keras.regularizers.l2(0.001))(x)\n",
    "out = tf.keras.layers.Dense(units=1, activation=\"sigmoid\", name=\"dense_output\")(x)\n",
    " \n",
    "model = tf.keras.models.Model(\n",
    "      inputs=[input_word_ids, input_mask, segment_ids], outputs=out)\n",
    "\n",
    "model.compile(loss=\"binary_crossentropy\", optimizer=Adam(lr=learning_rate), metrics=[\"accuracy\"])\n"
   ]
  },
  {
   "cell_type": "code",
   "execution_count": 29,
   "metadata": {},
   "outputs": [
    {
     "name": "stdout",
     "output_type": "stream",
     "text": [
      "Model: \"model\"\n",
      "__________________________________________________________________________________________________\n",
      "Layer (type)                    Output Shape         Param #     Connected to                     \n",
      "==================================================================================================\n",
      "input_word_ids (InputLayer)     [(None, 128)]        0                                            \n",
      "__________________________________________________________________________________________________\n",
      "input_mask (InputLayer)         [(None, 128)]        0                                            \n",
      "__________________________________________________________________________________________________\n",
      "segment_ids (InputLayer)        [(None, 128)]        0                                            \n",
      "__________________________________________________________________________________________________\n",
      "keras_layer (KerasLayer)        [(None, 1024), (None 333579265   input_word_ids[0][0]             \n",
      "                                                                 input_mask[0][0]                 \n",
      "                                                                 segment_ids[0][0]                \n",
      "__________________________________________________________________________________________________\n",
      "global_average_pooling1d (Globa (None, 1024)         0           keras_layer[0][1]                \n",
      "__________________________________________________________________________________________________\n",
      "dense (Dense)                   (None, 1024)         1049600     global_average_pooling1d[0][0]   \n",
      "__________________________________________________________________________________________________\n",
      "dense_output (Dense)            (None, 1)            1025        dense[0][0]                      \n",
      "==================================================================================================\n",
      "Total params: 334,629,890\n",
      "Trainable params: 1,050,625\n",
      "Non-trainable params: 333,579,265\n",
      "__________________________________________________________________________________________________\n"
     ]
    }
   ],
   "source": [
    "model.summary()"
   ]
  },
  {
   "cell_type": "code",
   "execution_count": 30,
   "metadata": {},
   "outputs": [
    {
     "name": "stdout",
     "output_type": "stream",
     "text": [
      "Train on 3566 samples, validate on 892 samples\n",
      "Epoch 1/10\n",
      "3566/3566 [==============================] - 467s 131ms/sample - loss: 1.0050 - accuracy: 0.9551 - val_loss: 0.8149 - val_accuracy: 0.9798\n",
      "Epoch 2/10\n",
      "3566/3566 [==============================] - 410s 115ms/sample - loss: 0.6738 - accuracy: 0.9849 - val_loss: 0.5870 - val_accuracy: 0.9809\n",
      "Epoch 3/10\n",
      "3566/3566 [==============================] - 414s 116ms/sample - loss: 0.4824 - accuracy: 0.9896 - val_loss: 0.4410 - val_accuracy: 0.9809\n",
      "Epoch 4/10\n",
      "3566/3566 [==============================] - 409s 115ms/sample - loss: 0.3570 - accuracy: 0.9907 - val_loss: 0.3352 - val_accuracy: 0.9821\n",
      "Epoch 5/10\n",
      "3566/3566 [==============================] - 408s 114ms/sample - loss: 0.2719 - accuracy: 0.9913 - val_loss: 0.2689 - val_accuracy: 0.9843\n",
      "Epoch 6/10\n",
      "3566/3566 [==============================] - 437s 122ms/sample - loss: 0.2100 - accuracy: 0.9924 - val_loss: 0.2244 - val_accuracy: 0.9798\n",
      "Epoch 7/10\n",
      "3566/3566 [==============================] - 578s 162ms/sample - loss: 0.1676 - accuracy: 0.9938 - val_loss: 0.2024 - val_accuracy: 0.9731\n",
      "Epoch 8/10\n",
      "3566/3566 [==============================] - 409s 115ms/sample - loss: 0.1362 - accuracy: 0.9950 - val_loss: 0.1605 - val_accuracy: 0.9798\n",
      "Epoch 9/10\n",
      "3566/3566 [==============================] - 101s 28ms/sample - loss: 0.1126 - accuracy: 0.9930 - val_loss: 0.1445 - val_accuracy: 0.9843\n",
      "Epoch 10/10\n",
      "3566/3566 [==============================] - 104s 29ms/sample - loss: 0.0959 - accuracy: 0.9933 - val_loss: 0.1400 - val_accuracy: 0.9809\n"
     ]
    }
   ],
   "source": [
    "model_name=\"model_spam_bert_classifier.hdf5\" \n",
    "#checkpointer = ModelCheckpoint(model_name, monitor='loss', save_best_only=True, mode='min')\n",
    "checkpointer = ModelCheckpoint(model_name, monitor='loss')\n",
    "history = model.fit(inputs, np.array(train_Y), epochs=10, batch_size=32, \n",
    "                    validation_split=0.2, shuffle=True, callbacks=[checkpointer])"
   ]
  },
  {
   "cell_type": "code",
   "execution_count": 31,
   "metadata": {},
   "outputs": [
    {
     "data": {
      "text/plain": [
       "[1.0049755920604315,\n",
       " 0.6738352671273959,\n",
       " 0.4823774124422036,\n",
       " 0.35702650238139805,\n",
       " 0.27191160187183705,\n",
       " 0.21003410303719713,\n",
       " 0.1675755740031057,\n",
       " 0.13620186835711282,\n",
       " 0.11262808663251356,\n",
       " 0.09589453962115979]"
      ]
     },
     "execution_count": 31,
     "metadata": {},
     "output_type": "execute_result"
    }
   ],
   "source": [
    "history.history['loss']"
   ]
  },
  {
   "cell_type": "code",
   "execution_count": 32,
   "metadata": {},
   "outputs": [],
   "source": [
    "trfile = open('spam_bert_train_10.csv', \"ab\")    \n",
    "np.savetxt(trfile, history.history['loss'], fmt=\"%2.6f\",delimiter=\",\")\n",
    "trfile.close()"
   ]
  },
  {
   "cell_type": "code",
   "execution_count": 33,
   "metadata": {},
   "outputs": [
    {
     "data": {
      "image/png": "[encoded data removed]",
      "text/plain": [
       "<Figure size 432x288 with 1 Axes>"
      ]
     },
     "metadata": {
      "needs_background": "light"
     },
     "output_type": "display_data"
    }
   ],
   "source": [
    "import matplotlib.pyplot as plt\n",
    "%matplotlib inline\n",
    "\n",
    "#acc = history.history['acc']\n",
    "#val_acc = history.history['val_acc']\n",
    "loss = history.history['loss']\n",
    "val_loss = history.history['val_loss']\n",
    "\n",
    "epochs = range(1, len(loss) + 1)\n",
    "\n",
    "plt.plot(epochs, loss, 'b', label='Training Loss')\n",
    "plt.plot(epochs, val_loss, 'g', label='Validation Loss')\n",
    "plt.title('Training and validation Loss')\n",
    "plt.xlabel('Epochs')\n",
    "plt.ylabel('Loss')\n",
    "plt.legend()\n",
    "\n",
    "plt.show()"
   ]
  },
  {
   "cell_type": "code",
   "execution_count": 61,
   "metadata": {},
   "outputs": [],
   "source": [
    "test_inputs=create_input_array(test_X)"
   ]
  },
  {
   "cell_type": "code",
   "execution_count": 62,
   "metadata": {},
   "outputs": [],
   "source": [
    "results = model.predict(test_inputs)"
   ]
  },
  {
   "cell_type": "code",
   "execution_count": 63,
   "metadata": {},
   "outputs": [],
   "source": [
    "pred_Y=[]\n",
    "for i in range(len(results)):\n",
    "    if results[i] >= 0.5:\n",
    "        pred_Y.append(1)\n",
    "    else:\n",
    "        pred_Y.append(0)      "
   ]
  },
  {
   "cell_type": "code",
   "execution_count": 65,
   "metadata": {},
   "outputs": [],
   "source": [
    "res = []\n",
    "for i in range(len(test_Y)):\n",
    "    res.append([test_Y[i],pred_Y[i]])\n"
   ]
  },
  {
   "cell_type": "code",
   "execution_count": 38,
   "metadata": {},
   "outputs": [],
   "source": [
    "trfile = open('spam_bert_test_10.csv', \"ab\")    \n",
    "np.savetxt(trfile, res, fmt=\"%2.6f\",delimiter=\",\")\n",
    "trfile.close()"
   ]
  },
  {
   "cell_type": "code",
   "execution_count": 39,
   "metadata": {},
   "outputs": [],
   "source": [
    "from sklearn.metrics import accuracy_score, f1_score, precision_score, recall_score\n",
    "from sklearn.metrics import classification_report, roc_curve, auc, confusion_matrix\n",
    "import seaborn as sns\n",
    "import pandas as pd\n",
    "import matplotlib.pyplot as plt"
   ]
  },
  {
   "cell_type": "code",
   "execution_count": 40,
   "metadata": {},
   "outputs": [
    {
     "data": {
      "text/plain": [
       "0.9150540499665113"
      ]
     },
     "execution_count": 40,
     "metadata": {},
     "output_type": "execute_result"
    }
   ],
   "source": [
    "fpr, tpr, thresholds = roc_curve(test_Y, pred_Y)\n",
    "auc(fpr, tpr)"
   ]
  },
  {
   "cell_type": "code",
   "execution_count": 41,
   "metadata": {},
   "outputs": [
    {
     "name": "stdout",
     "output_type": "stream",
     "text": [
      "precision :  0.9766606822262118\n",
      "recall :  0.9766606822262118\n",
      "f1_score :  0.9766606822262118\n",
      "accuracy_score :  0.9766606822262118\n"
     ]
    }
   ],
   "source": [
    "\n",
    "print(\"precision : \", precision_score(test_Y, pred_Y, average=\"micro\"))\n",
    "print(\"recall : \", recall_score(test_Y, pred_Y, average=\"micro\")) \n",
    "print(\"f1_score : \", f1_score(test_Y, pred_Y, average=\"micro\"))\n",
    "print(\"accuracy_score : \", accuracy_score(test_Y, pred_Y))\n",
    "#print(confusion_matrix(test_Y, pred_Y))"
   ]
  },
  {
   "cell_type": "code",
   "execution_count": 42,
   "metadata": {},
   "outputs": [
    {
     "name": "stdout",
     "output_type": "stream",
     "text": [
      "precision :  0.9796509450450676\n",
      "recall :  0.9150540499665114\n",
      "f1_score :  0.9441384311547245\n",
      "accuracy_score :  0.9766606822262118\n"
     ]
    }
   ],
   "source": [
    "print(\"precision : \", precision_score(test_Y, pred_Y, average=\"macro\"))\n",
    "print(\"recall : \", recall_score(test_Y, pred_Y, average=\"macro\")) \n",
    "print(\"f1_score : \", f1_score(test_Y, pred_Y, average=\"macro\"))\n",
    "print(\"accuracy_score : \", accuracy_score(test_Y, pred_Y))"
   ]
  },
  {
   "cell_type": "code",
   "execution_count": 61,
   "metadata": {},
   "outputs": [],
   "source": [
    "#for i in range(len(pred_Y)):\n",
    "#    print(test_Y[i], pred_Y[i])"
   ]
  },
  {
   "cell_type": "code",
   "execution_count": 43,
   "metadata": {},
   "outputs": [
    {
     "name": "stdout",
     "output_type": "stream",
     "text": [
      "Train on 3566 samples, validate on 892 samples\n",
      "Epoch 1/10\n",
      "3566/3566 [==============================] - 103s 29ms/sample - loss: 0.0799 - accuracy: 0.9950 - val_loss: 0.1154 - val_accuracy: 0.9809\n",
      "Epoch 2/10\n",
      "3566/3566 [==============================] - 100s 28ms/sample - loss: 0.0725 - accuracy: 0.9944 - val_loss: 0.1119 - val_accuracy: 0.9865\n",
      "Epoch 3/10\n",
      "3566/3566 [==============================] - 100s 28ms/sample - loss: 0.0605 - accuracy: 0.9961 - val_loss: 0.1192 - val_accuracy: 0.9821\n",
      "Epoch 4/10\n",
      "3566/3566 [==============================] - 105s 29ms/sample - loss: 0.0619 - accuracy: 0.9916 - val_loss: 0.1048 - val_accuracy: 0.9843\n",
      "Epoch 5/10\n",
      "3566/3566 [==============================] - 104s 29ms/sample - loss: 0.0504 - accuracy: 0.9964 - val_loss: 0.0983 - val_accuracy: 0.9832\n",
      "Epoch 6/10\n",
      "3566/3566 [==============================] - 100s 28ms/sample - loss: 0.0448 - accuracy: 0.9964 - val_loss: 0.0891 - val_accuracy: 0.9843\n",
      "Epoch 7/10\n",
      "3566/3566 [==============================] - 102s 29ms/sample - loss: 0.0409 - accuracy: 0.9978 - val_loss: 0.0935 - val_accuracy: 0.9776\n",
      "Epoch 8/10\n",
      "3566/3566 [==============================] - 105s 29ms/sample - loss: 0.0427 - accuracy: 0.9952 - val_loss: 0.0884 - val_accuracy: 0.9809\n",
      "Epoch 9/10\n",
      "3566/3566 [==============================] - 105s 29ms/sample - loss: 0.0358 - accuracy: 0.9972 - val_loss: 0.0849 - val_accuracy: 0.9821\n",
      "Epoch 10/10\n",
      "3566/3566 [==============================] - 101s 28ms/sample - loss: 0.0333 - accuracy: 0.9969 - val_loss: 0.0841 - val_accuracy: 0.9787\n"
     ]
    }
   ],
   "source": [
    "model_name=\"model_spam_bert_classifier.hdf5\" \n",
    "#checkpointer = ModelCheckpoint(model_name, monitor='loss', save_best_only=True, mode='min')\n",
    "checkpointer = ModelCheckpoint(model_name, monitor='loss')\n",
    "history = model.fit(inputs, np.array(train_Y), epochs=10, batch_size=32, \n",
    "                    validation_split=0.2, shuffle=True, callbacks=[checkpointer])"
   ]
  },
  {
   "cell_type": "code",
   "execution_count": 44,
   "metadata": {},
   "outputs": [
    {
     "data": {
      "text/plain": [
       "[0.07993320779758963,\n",
       " 0.07245416864251328,\n",
       " 0.060496804171225625,\n",
       " 0.061942004419516396,\n",
       " 0.05039783952882032,\n",
       " 0.044809442705073116,\n",
       " 0.04094722814047296,\n",
       " 0.04265094058305042,\n",
       " 0.03582795665286528,\n",
       " 0.03330369771939279]"
      ]
     },
     "execution_count": 44,
     "metadata": {},
     "output_type": "execute_result"
    }
   ],
   "source": [
    "history.history['loss']"
   ]
  },
  {
   "cell_type": "code",
   "execution_count": 45,
   "metadata": {},
   "outputs": [],
   "source": [
    "trfile = open('spam_bert_train_20.csv', \"ab\")    \n",
    "np.savetxt(trfile, history.history['loss'], fmt=\"%2.6f\",delimiter=\",\")\n",
    "trfile.close()"
   ]
  },
  {
   "cell_type": "code",
   "execution_count": 46,
   "metadata": {},
   "outputs": [
    {
     "data": {
      "image/png": "[encoded data removed]",
      "text/plain": [
       "<Figure size 432x288 with 1 Axes>"
      ]
     },
     "metadata": {
      "needs_background": "light"
     },
     "output_type": "display_data"
    }
   ],
   "source": [
    "import matplotlib.pyplot as plt\n",
    "%matplotlib inline\n",
    "\n",
    "#acc = history.history['acc']\n",
    "#val_acc = history.history['val_acc']\n",
    "loss = history.history['loss']\n",
    "val_loss = history.history['val_loss']\n",
    "\n",
    "epochs = range(1, len(loss) + 1)\n",
    "\n",
    "plt.plot(epochs, loss, 'b', label='Training Loss')\n",
    "plt.plot(epochs, val_loss, 'g', label='Validation Loss')\n",
    "plt.title('Training and validation Loss')\n",
    "plt.xlabel('Epochs')\n",
    "plt.ylabel('Loss')\n",
    "plt.legend()\n",
    "\n",
    "plt.show()"
   ]
  },
  {
   "cell_type": "code",
   "execution_count": 51,
   "metadata": {},
   "outputs": [],
   "source": [
    "trfile = open('spam_bert_test_20.csv', \"ab\")    \n",
    "np.savetxt(trfile, res, fmt=\"%2.6f\",delimiter=\",\")\n",
    "trfile.close()"
   ]
  },
  {
   "cell_type": "code",
   "execution_count": 52,
   "metadata": {},
   "outputs": [
    {
     "data": {
      "text/plain": [
       "0.9399364795863251"
      ]
     },
     "execution_count": 52,
     "metadata": {},
     "output_type": "execute_result"
    }
   ],
   "source": [
    "fpr, tpr, thresholds = roc_curve(test_Y, pred_Y)\n",
    "auc(fpr, tpr)"
   ]
  },
  {
   "cell_type": "code",
   "execution_count": 53,
   "metadata": {},
   "outputs": [
    {
     "name": "stdout",
     "output_type": "stream",
     "text": [
      "precision :  0.9784560143626571\n",
      "recall :  0.9784560143626571\n",
      "f1_score :  0.9784560143626571\n",
      "accuracy_score :  0.9784560143626571\n"
     ]
    }
   ],
   "source": [
    "\n",
    "print(\"precision : \", precision_score(test_Y, pred_Y, average=\"micro\"))\n",
    "print(\"recall : \", recall_score(test_Y, pred_Y, average=\"micro\")) \n",
    "print(\"f1_score : \", f1_score(test_Y, pred_Y, average=\"micro\"))\n",
    "print(\"accuracy_score : \", accuracy_score(test_Y, pred_Y))\n",
    "#print(confusion_matrix(test_Y, pred_Y))"
   ]
  },
  {
   "cell_type": "code",
   "execution_count": 54,
   "metadata": {},
   "outputs": [
    {
     "name": "stdout",
     "output_type": "stream",
     "text": [
      "precision :  0.9621987666931487\n",
      "recall :  0.9399364795863251\n",
      "f1_score :  0.9506806862202546\n",
      "accuracy_score :  0.9784560143626571\n"
     ]
    }
   ],
   "source": [
    "print(\"precision : \", precision_score(test_Y, pred_Y, average=\"macro\"))\n",
    "print(\"recall : \", recall_score(test_Y, pred_Y, average=\"macro\")) \n",
    "print(\"f1_score : \", f1_score(test_Y, pred_Y, average=\"macro\"))\n",
    "print(\"accuracy_score : \", accuracy_score(test_Y, pred_Y))"
   ]
  },
  {
   "cell_type": "code",
   "execution_count": 55,
   "metadata": {},
   "outputs": [
    {
     "name": "stdout",
     "output_type": "stream",
     "text": [
      "Train on 3566 samples, validate on 892 samples\n",
      "Epoch 1/30\n",
      "3566/3566 [==============================] - 103s 29ms/sample - loss: 0.0349 - accuracy: 0.9964 - val_loss: 0.0873 - val_accuracy: 0.9854\n",
      "Epoch 2/30\n",
      "3566/3566 [==============================] - 105s 29ms/sample - loss: 0.0370 - accuracy: 0.9955 - val_loss: 0.0871 - val_accuracy: 0.9832\n",
      "Epoch 3/30\n",
      "3566/3566 [==============================] - 105s 29ms/sample - loss: 0.0310 - accuracy: 0.9975 - val_loss: 0.0841 - val_accuracy: 0.9809\n",
      "Epoch 4/30\n",
      "3566/3566 [==============================] - 100s 28ms/sample - loss: 0.0307 - accuracy: 0.9975 - val_loss: 0.0843 - val_accuracy: 0.9854\n",
      "Epoch 5/30\n",
      "3566/3566 [==============================] - 100s 28ms/sample - loss: 0.0276 - accuracy: 0.9980 - val_loss: 0.1008 - val_accuracy: 0.9798\n",
      "Epoch 6/30\n",
      "3566/3566 [==============================] - 106s 30ms/sample - loss: 0.0289 - accuracy: 0.9969 - val_loss: 0.0838 - val_accuracy: 0.9843\n",
      "Epoch 7/30\n",
      "3566/3566 [==============================] - 105s 30ms/sample - loss: 0.0291 - accuracy: 0.9966 - val_loss: 0.0771 - val_accuracy: 0.9843\n",
      "Epoch 8/30\n",
      "3566/3566 [==============================] - 100s 28ms/sample - loss: 0.0283 - accuracy: 0.9975 - val_loss: 0.0802 - val_accuracy: 0.9843\n",
      "Epoch 9/30\n",
      "3566/3566 [==============================] - 101s 28ms/sample - loss: 0.0367 - accuracy: 0.9944 - val_loss: 0.0861 - val_accuracy: 0.9843\n",
      "Epoch 10/30\n",
      "3566/3566 [==============================] - 106s 30ms/sample - loss: 0.0269 - accuracy: 0.9978 - val_loss: 0.0885 - val_accuracy: 0.9809\n",
      "Epoch 11/30\n",
      "3566/3566 [==============================] - 105s 30ms/sample - loss: 0.0252 - accuracy: 0.9986 - val_loss: 0.0794 - val_accuracy: 0.9798\n",
      "Epoch 12/30\n",
      "3566/3566 [==============================] - 100s 28ms/sample - loss: 0.0345 - accuracy: 0.9944 - val_loss: 0.0994 - val_accuracy: 0.9765\n",
      "Epoch 13/30\n",
      "3566/3566 [==============================] - 101s 28ms/sample - loss: 0.0330 - accuracy: 0.9944 - val_loss: 0.0872 - val_accuracy: 0.9832\n",
      "Epoch 14/30\n",
      "3566/3566 [==============================] - 105s 29ms/sample - loss: 0.0243 - accuracy: 0.9975 - val_loss: 0.0803 - val_accuracy: 0.9832\n",
      "Epoch 15/30\n",
      "3566/3566 [==============================] - 105s 29ms/sample - loss: 0.0236 - accuracy: 0.9992 - val_loss: 0.0841 - val_accuracy: 0.9843\n",
      "Epoch 16/30\n",
      "3566/3566 [==============================] - 100s 28ms/sample - loss: 0.0209 - accuracy: 0.9992 - val_loss: 0.0771 - val_accuracy: 0.9798\n",
      "Epoch 17/30\n",
      "3566/3566 [==============================] - 103s 29ms/sample - loss: 0.0236 - accuracy: 0.9980 - val_loss: 0.0831 - val_accuracy: 0.9832\n",
      "Epoch 18/30\n",
      "3566/3566 [==============================] - 106s 30ms/sample - loss: 0.0232 - accuracy: 0.9975 - val_loss: 0.0864 - val_accuracy: 0.9821\n",
      "Epoch 19/30\n",
      "3566/3566 [==============================] - 105s 29ms/sample - loss: 0.0248 - accuracy: 0.9975 - val_loss: 0.0857 - val_accuracy: 0.9798\n",
      "Epoch 20/30\n",
      "3566/3566 [==============================] - 100s 28ms/sample - loss: 0.0302 - accuracy: 0.9936 - val_loss: 0.0761 - val_accuracy: 0.9843\n",
      "Epoch 21/30\n",
      "3566/3566 [==============================] - 101s 28ms/sample - loss: 0.0219 - accuracy: 0.9989 - val_loss: 0.0849 - val_accuracy: 0.9821\n",
      "Epoch 22/30\n",
      "3566/3566 [==============================] - 106s 30ms/sample - loss: 0.0202 - accuracy: 0.9997 - val_loss: 0.0799 - val_accuracy: 0.9843\n",
      "Epoch 23/30\n",
      "3566/3566 [==============================] - 105s 29ms/sample - loss: 0.0204 - accuracy: 0.9992 - val_loss: 0.0795 - val_accuracy: 0.9843\n",
      "Epoch 24/30\n",
      "3566/3566 [==============================] - 100s 28ms/sample - loss: 0.0199 - accuracy: 0.9992 - val_loss: 0.0799 - val_accuracy: 0.9843\n",
      "Epoch 25/30\n",
      "3566/3566 [==============================] - 101s 28ms/sample - loss: 0.0221 - accuracy: 0.9980 - val_loss: 0.0890 - val_accuracy: 0.9798\n",
      "Epoch 26/30\n",
      "3566/3566 [==============================] - 105s 29ms/sample - loss: 0.0203 - accuracy: 0.9989 - val_loss: 0.0866 - val_accuracy: 0.9776\n",
      "Epoch 27/30\n",
      "3566/3566 [==============================] - 106s 30ms/sample - loss: 0.0201 - accuracy: 0.9992 - val_loss: 0.1041 - val_accuracy: 0.9832\n",
      "Epoch 28/30\n",
      "3566/3566 [==============================] - 101s 28ms/sample - loss: 0.0209 - accuracy: 0.9978 - val_loss: 0.0851 - val_accuracy: 0.9865\n",
      "Epoch 29/30\n",
      "3566/3566 [==============================] - 101s 28ms/sample - loss: 0.0232 - accuracy: 0.9964 - val_loss: 0.0813 - val_accuracy: 0.9832\n",
      "Epoch 30/30\n",
      "3566/3566 [==============================] - 105s 30ms/sample - loss: 0.0213 - accuracy: 0.9978 - val_loss: 0.0799 - val_accuracy: 0.9843\n"
     ]
    }
   ],
   "source": [
    "model_name=\"model_spam_bert_classifier.hdf5\" \n",
    "#checkpointer = ModelCheckpoint(model_name, monitor='loss', save_best_only=True, mode='min')\n",
    "checkpointer = ModelCheckpoint(model_name, monitor='loss')\n",
    "history = model.fit(inputs, np.array(train_Y), epochs=30, batch_size=32, \n",
    "                    validation_split=0.2, shuffle=True, callbacks=[checkpointer])"
   ]
  },
  {
   "cell_type": "code",
   "execution_count": 56,
   "metadata": {},
   "outputs": [
    {
     "data": {
      "text/plain": [
       "[0.034850704632553235,\n",
       " 0.03696172626765337,\n",
       " 0.030968039036967147,\n",
       " 0.030701114043417903,\n",
       " 0.02762686619164231,\n",
       " 0.02889442527003323,\n",
       " 0.029077537142605307,\n",
       " 0.028306226398058305,\n",
       " 0.03665485502175247,\n",
       " 0.026893979721962235,\n",
       " 0.025183745294775912,\n",
       " 0.03447365889088598,\n",
       " 0.033002049503905416,\n",
       " 0.024277559042277793,\n",
       " 0.023601206519917296,\n",
       " 0.020898169320258477,\n",
       " 0.0236475358357255,\n",
       " 0.023227335566543023,\n",
       " 0.024825784738164602,\n",
       " 0.030219530691959453,\n",
       " 0.021913901305706796,\n",
       " 0.020196174560255773,\n",
       " 0.020428397701619652,\n",
       " 0.019850250331458253,\n",
       " 0.022095564491649858,\n",
       " 0.020336596425298854,\n",
       " 0.020116057989683234,\n",
       " 0.020879139006973583,\n",
       " 0.023163914812109273,\n",
       " 0.0213424925641713]"
      ]
     },
     "execution_count": 56,
     "metadata": {},
     "output_type": "execute_result"
    }
   ],
   "source": [
    "history.history['loss']"
   ]
  },
  {
   "cell_type": "code",
   "execution_count": 58,
   "metadata": {},
   "outputs": [],
   "source": [
    "trfile = open('spam_bert_train_50.csv', \"ab\")    \n",
    "np.savetxt(trfile, history.history['loss'], fmt=\"%2.6f\",delimiter=\",\")\n",
    "trfile.close()"
   ]
  },
  {
   "cell_type": "code",
   "execution_count": 60,
   "metadata": {},
   "outputs": [
    {
     "data": {
      "image/png": "[encoded data removed]",
      "text/plain": [
       "<Figure size 432x288 with 1 Axes>"
      ]
     },
     "metadata": {
      "needs_background": "light"
     },
     "output_type": "display_data"
    }
   ],
   "source": [
    "import matplotlib.pyplot as plt\n",
    "%matplotlib inline\n",
    "\n",
    "#acc = history.history['acc']\n",
    "#val_acc = history.history['val_acc']\n",
    "loss = history.history['loss']\n",
    "val_loss = history.history['val_loss']\n",
    "\n",
    "epochs = range(1, len(loss) + 1)\n",
    "\n",
    "plt.plot(epochs, loss, 'b', label='Training Loss')\n",
    "plt.plot(epochs, val_loss, 'g', label='Validation Loss')\n",
    "plt.title('Training and validation Loss')\n",
    "plt.xlabel('Epochs')\n",
    "plt.ylabel('Loss')\n",
    "plt.legend()\n",
    "plt.show()"
   ]
  },
  {
   "cell_type": "code",
   "execution_count": 66,
   "metadata": {},
   "outputs": [],
   "source": [
    "trfile = open('spam_bert_test_50.csv', \"ab\")    \n",
    "np.savetxt(trfile, res, fmt=\"%2.6f\",delimiter=\",\")\n",
    "trfile.close()"
   ]
  },
  {
   "cell_type": "code",
   "execution_count": 67,
   "metadata": {},
   "outputs": [
    {
     "data": {
      "text/plain": [
       "0.9574189970688426"
      ]
     },
     "execution_count": 67,
     "metadata": {},
     "output_type": "execute_result"
    }
   ],
   "source": [
    "fpr, tpr, thresholds = roc_curve(test_Y, pred_Y)\n",
    "auc(fpr, tpr)"
   ]
  },
  {
   "cell_type": "code",
   "execution_count": 68,
   "metadata": {},
   "outputs": [
    {
     "name": "stdout",
     "output_type": "stream",
     "text": [
      "precision :  0.9829443447037702\n",
      "recall :  0.9829443447037702\n",
      "f1_score :  0.9829443447037701\n",
      "accuracy_score :  0.9829443447037702\n"
     ]
    }
   ],
   "source": [
    "print(\"precision : \", precision_score(test_Y, pred_Y, average=\"micro\"))\n",
    "print(\"recall : \", recall_score(test_Y, pred_Y, average=\"micro\")) \n",
    "print(\"f1_score : \", f1_score(test_Y, pred_Y, average=\"micro\"))\n",
    "print(\"accuracy_score : \", accuracy_score(test_Y, pred_Y))\n",
    "#print(confusion_matrix(test_Y, pred_Y))"
   ]
  },
  {
   "cell_type": "code",
   "execution_count": 69,
   "metadata": {},
   "outputs": [
    {
     "name": "stdout",
     "output_type": "stream",
     "text": [
      "precision :  0.9657817541801115\n",
      "recall :  0.9574189970688426\n",
      "f1_score :  0.9615467766402935\n",
      "accuracy_score :  0.9829443447037702\n"
     ]
    }
   ],
   "source": [
    "print(\"precision : \", precision_score(test_Y, pred_Y, average=\"macro\"))\n",
    "print(\"recall : \", recall_score(test_Y, pred_Y, average=\"macro\")) \n",
    "print(\"f1_score : \", f1_score(test_Y, pred_Y, average=\"macro\"))\n",
    "print(\"accuracy_score : \", accuracy_score(test_Y, pred_Y))"
   ]
  },
  {
   "cell_type": "code",
   "execution_count": null,
   "metadata": {},
   "outputs": [],
   "source": []
  }
 ],
 "metadata": {
  "kernelspec": {
   "display_name": "Python 3",
   "language": "python",
   "name": "python3"
  },
  "language_info": {
   "codemirror_mode": {
    "name": "ipython",
    "version": 3
   },
   "file_extension": ".py",
   "mimetype": "text/x-python",
   "name": "python",
   "nbconvert_exporter": "python",
   "pygments_lexer": "ipython3",
   "version": "3.6.10"
  }
 },
 "nbformat": 4,
 "nbformat_minor": 4
}
