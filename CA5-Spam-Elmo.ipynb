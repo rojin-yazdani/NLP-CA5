{
 "cells": [
  {
   "cell_type": "code",
   "execution_count": 1,
   "metadata": {
    "colab": {
     "base_uri": "https://localhost:8080/",
     "height": 50
    },
    "colab_type": "code",
    "executionInfo": {
     "elapsed": 6524,
     "status": "ok",
     "timestamp": 1588918930661,
     "user": {
      "displayName": "Roghayeh Yazdani",
      "photoUrl": "",
      "userId": "16706172423200337186"
     },
     "user_tz": -270
    },
    "id": "bOqmb3hg0xSC",
    "outputId": "83fb5a65-0873-4db9-f935-df47414e44c1"
   },
   "outputs": [
    {
     "name": "stdout",
     "output_type": "stream",
     "text": [
      "TensorFlow 1.x selected.\n"
     ]
    },
    {
     "name": "stderr",
     "output_type": "stream",
     "text": [
      "Using TensorFlow backend.\n"
     ]
    }
   ],
   "source": [
    "%tensorflow_version 1.x\n",
    "import tensorflow as tf\n",
    "import tensorflow_hub as hub\n",
    "from tensorflow.keras import layers\n",
    "from tensorflow.keras.layers import Layer, Input, Lambda, Dense, LSTM, InputLayer, Bidirectional, TimeDistributed, Embedding, Activation\n",
    "from tensorflow.keras.optimizers import Adam\n",
    "from tensorflow.keras.callbacks import ModelCheckpoint\n",
    "from tensorflow.keras.models import Model, Sequential, load_model\n",
    "import keras.backend as K\n",
    "import tensorflow.keras as keras"
   ]
  },
  {
   "cell_type": "code",
   "execution_count": 0,
   "metadata": {
    "colab": {},
    "colab_type": "code",
    "id": "UYu3WDu-3Ppv"
   },
   "outputs": [],
   "source": [
    "import pandas as pd \n",
    "import numpy as np\n",
    "import re\n",
    "import random\n",
    "import math\n",
    "from bs4 import BeautifulSoup"
   ]
  },
  {
   "cell_type": "code",
   "execution_count": 3,
   "metadata": {
    "colab": {
     "base_uri": "https://localhost:8080/",
     "height": 34
    },
    "colab_type": "code",
    "executionInfo": {
     "elapsed": 2870,
     "status": "ok",
     "timestamp": 1588918938033,
     "user": {
      "displayName": "Roghayeh Yazdani",
      "photoUrl": "",
      "userId": "16706172423200337186"
     },
     "user_tz": -270
    },
    "id": "RiPb6bOryFwd",
    "outputId": "ea0a0330-26f9-44cc-c070-46dce23eee2e"
   },
   "outputs": [
    {
     "data": {
      "text/plain": [
       "'/device:GPU:0'"
      ]
     },
     "execution_count": 3,
     "metadata": {
      "tags": []
     },
     "output_type": "execute_result"
    }
   ],
   "source": [
    "tf.test.gpu_device_name() "
   ]
  },
  {
   "cell_type": "code",
   "execution_count": 12,
   "metadata": {
    "colab": {
     "base_uri": "https://localhost:8080/",
     "height": 34
    },
    "colab_type": "code",
    "executionInfo": {
     "elapsed": 1074,
     "status": "ok",
     "timestamp": 1588919015035,
     "user": {
      "displayName": "Roghayeh Yazdani",
      "photoUrl": "",
      "userId": "16706172423200337186"
     },
     "user_tz": -270
    },
    "id": "X_jEA_Re1IQx",
    "outputId": "a179331a-fc1f-482c-b678-45956f002f78"
   },
   "outputs": [
    {
     "name": "stdout",
     "output_type": "stream",
     "text": [
      "1.15.2\n"
     ]
    }
   ],
   "source": [
    "print(tf.__version__)"
   ]
  },
  {
   "cell_type": "code",
   "execution_count": 4,
   "metadata": {
    "colab": {
     "base_uri": "https://localhost:8080/",
     "height": 74,
     "resources": {
      "http://localhost:8080/nbextensions/google.colab/files.js": {
       "data": "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",
       "headers": [
        [
         "content-type",
         "application/javascript"
        ]
       ],
       "ok": true,
       "status": 200,
       "status_text": ""
      }
     }
    },
    "colab_type": "code",
    "executionInfo": {
     "elapsed": 42882,
     "status": "ok",
     "timestamp": 1588918981763,
     "user": {
      "displayName": "Roghayeh Yazdani",
      "photoUrl": "",
      "userId": "16706172423200337186"
     },
     "user_tz": -270
    },
    "id": "yLTTqx7K4jlU",
    "outputId": "fb8fd504-a19e-41f4-a403-53f7e7367984"
   },
   "outputs": [
    {
     "data": {
      "text/html": [
       "\n",
       "     <input type=\"file\" id=\"files-ebdb077e-e952-4956-a84a-1fa40689299d\" name=\"files[]\" multiple disabled />\n",
       "     <output id=\"result-ebdb077e-e952-4956-a84a-1fa40689299d\">\n",
       "      Upload widget is only available when the cell has been executed in the\n",
       "      current browser session. Please rerun this cell to enable.\n",
       "      </output>\n",
       "      <script src=\"/nbextensions/google.colab/files.js\"></script> "
      ],
      "text/plain": [
       "<IPython.core.display.HTML object>"
      ]
     },
     "metadata": {
      "tags": []
     },
     "output_type": "display_data"
    },
    {
     "name": "stdout",
     "output_type": "stream",
     "text": [
      "Saving spam.csv to spam.csv\n"
     ]
    }
   ],
   "source": [
    "from google.colab import files\n",
    "uploaded = files.upload()"
   ]
  },
  {
   "cell_type": "code",
   "execution_count": 5,
   "metadata": {
    "colab": {
     "base_uri": "https://localhost:8080/",
     "height": 34
    },
    "colab_type": "code",
    "executionInfo": {
     "elapsed": 1860,
     "status": "ok",
     "timestamp": 1588918987188,
     "user": {
      "displayName": "Roghayeh Yazdani",
      "photoUrl": "",
      "userId": "16706172423200337186"
     },
     "user_tz": -270
    },
    "id": "hQmDCUeu3RfO",
    "outputId": "e6694a37-0fdd-4ddd-d50f-ac98746b4399"
   },
   "outputs": [
    {
     "name": "stdout",
     "output_type": "stream",
     "text": [
      "(5572, 5)\n"
     ]
    }
   ],
   "source": [
    "spamTexts = pd.read_csv('spam.csv', engine='python')\n",
    "print(spamTexts.shape)"
   ]
  },
  {
   "cell_type": "code",
   "execution_count": 0,
   "metadata": {
    "colab": {},
    "colab_type": "code",
    "id": "Mv1XUESo5KPX"
   },
   "outputs": [],
   "source": [
    "def denoise_text(text):    \n",
    "    # Remove the html strips\n",
    "    soup = BeautifulSoup(text, \"html.parser\")\n",
    "    text = soup.get_text()\n",
    "    \n",
    "    # Remove digits and punctuations \n",
    "    pattern=r'[^a-zA-Z]'\n",
    "    text=re.sub(pattern,' ',text)\n",
    "    \n",
    "    # Remove single characters\n",
    "    text = re.sub(r\"\\s+[a-zA-Z]\\s+\", ' ', text)\n",
    "    \n",
    "    # Remove multiple spaces\n",
    "    text = re.sub(r'\\s+', ' ', text)\n",
    "        \n",
    "    return text"
   ]
  },
  {
   "cell_type": "code",
   "execution_count": 0,
   "metadata": {
    "colab": {},
    "colab_type": "code",
    "id": "83JTbXVd5Mjv"
   },
   "outputs": [],
   "source": [
    "clean_texts = []\n",
    "sentences = list(spamTexts['v2'])\n",
    "for sen in sentences:\n",
    "    clean_texts.append(denoise_text(sen))"
   ]
  },
  {
   "cell_type": "code",
   "execution_count": 0,
   "metadata": {
    "colab": {},
    "colab_type": "code",
    "id": "M0wT1eWF5Ugb"
   },
   "outputs": [],
   "source": [
    "y = spamTexts['v1']\n",
    "\n",
    "y = np.array(list(map(lambda x: 1 if x==\"spam\" else 0, y)))"
   ]
  },
  {
   "cell_type": "code",
   "execution_count": 0,
   "metadata": {
    "colab": {},
    "colab_type": "code",
    "id": "PO1uH_NL5Xyq"
   },
   "outputs": [],
   "source": [
    "clean_texts_with_y = [[txt, y[i]] for i, txt in enumerate(clean_texts)]\n",
    "random.shuffle(clean_texts_with_y)"
   ]
  },
  {
   "cell_type": "code",
   "execution_count": 11,
   "metadata": {
    "colab": {
     "base_uri": "https://localhost:8080/",
     "height": 50
    },
    "colab_type": "code",
    "executionInfo": {
     "elapsed": 1186,
     "status": "ok",
     "timestamp": 1588919010430,
     "user": {
      "displayName": "Roghayeh Yazdani",
      "photoUrl": "",
      "userId": "16706172423200337186"
     },
     "user_tz": -270
    },
    "id": "Wg-vM22A5coh",
    "outputId": "88f16652-3e0c-49f4-8bca-4a934891f029"
   },
   "outputs": [
    {
     "name": "stdout",
     "output_type": "stream",
     "text": [
      "train_size: 4458\n",
      "test_size: 1114\n"
     ]
    }
   ],
   "source": [
    "train_X ,train_Y, test_X, test_Y = [], [], [], []\n",
    "\n",
    "train_size = math.ceil(len(clean_texts_with_y)*0.8)\n",
    "\n",
    "for e in clean_texts_with_y[:train_size]:\n",
    "    train_X.append(e[0])\n",
    "    train_Y.append(e[1])\n",
    "\n",
    "for e in clean_texts_with_y[train_size:]:\n",
    "    test_X.append(e[0])\n",
    "    test_Y.append(e[1])\n",
    "    \n",
    "print(\"train_size:\",len(train_X))\n",
    "print(\"test_size:\",len(test_X))"
   ]
  },
  {
   "cell_type": "code",
   "execution_count": 0,
   "metadata": {
    "colab": {},
    "colab_type": "code",
    "id": "Uxao6hE50QCu"
   },
   "outputs": [],
   "source": [
    "elmo = hub.Module(\"https://tfhub.dev/google/elmo/3\", trainable=True)"
   ]
  },
  {
   "cell_type": "code",
   "execution_count": 0,
   "metadata": {
    "colab": {
     "base_uri": "https://localhost:8080/",
     "height": 50
    },
    "colab_type": "code",
    "executionInfo": {
     "elapsed": 1087,
     "status": "ok",
     "timestamp": 1588816535144,
     "user": {
      "displayName": "Roghayeh Yazdani",
      "photoUrl": "",
      "userId": "16706172423200337186"
     },
     "user_tz": -270
    },
    "id": "aSbWfaKj2DNX",
    "outputId": "47dae7a6-5719-405e-c804-f9af4ec36b6a"
   },
   "outputs": [
    {
     "name": "stdout",
     "output_type": "stream",
     "text": [
      "INFO:tensorflow:Saver not created because there are no variables in the graph to restore\n"
     ]
    },
    {
     "name": "stderr",
     "output_type": "stream",
     "text": [
      "INFO:tensorflow:Saver not created because there are no variables in the graph to restore\n"
     ]
    }
   ],
   "source": [
    "embeddings = elmo(\n",
    "[\"the cat is on the mat\", \"what are you doing in evening\"],\n",
    "signature=\"default\",\n",
    "as_dict=True)[\"elmo\"]"
   ]
  },
  {
   "cell_type": "code",
   "execution_count": 0,
   "metadata": {
    "colab": {},
    "colab_type": "code",
    "id": "OvRe9Vkw6Gc9"
   },
   "outputs": [],
   "source": [
    "\n",
    "#embed = hub.Module(\"https://tfhub.dev/google/elmo/3\")\n",
    "def ELMoEmbedding(x):\n",
    "    return elmo(tf.squeeze(tf.cast(x, tf.string)), signature=\"default\", as_dict=True)[\"default\"]"
   ]
  },
  {
   "cell_type": "code",
   "execution_count": 0,
   "metadata": {
    "colab": {},
    "colab_type": "code",
    "id": "ZnsBNUjE6TYe"
   },
   "outputs": [],
   "source": [
    "def build_model(): \n",
    "    input_text = Input(shape=(1,), dtype=\"string\")\n",
    "    embedding = Lambda(ELMoEmbedding, output_shape=(1024, ))(input_text)\n",
    "    dense = Dense(1024, activation='relu', kernel_regularizer=keras.regularizers.l2(0.001))(embedding)\n",
    "    pred = Dense(1, activation='sigmoid')(dense)\n",
    "    model = Model(inputs=[input_text], outputs=pred)\n",
    "    model.compile(loss='binary_crossentropy', optimizer=Adam(lr=0.0002), metrics=['accuracy'])\n",
    "    return model"
   ]
  },
  {
   "cell_type": "code",
   "execution_count": 46,
   "metadata": {
    "colab": {
     "base_uri": "https://localhost:8080/",
     "height": 50
    },
    "colab_type": "code",
    "executionInfo": {
     "elapsed": 1058,
     "status": "ok",
     "timestamp": 1588920314598,
     "user": {
      "displayName": "Roghayeh Yazdani",
      "photoUrl": "",
      "userId": "16706172423200337186"
     },
     "user_tz": -270
    },
    "id": "UhZATziJ6X6l",
    "outputId": "d5b724f2-6b08-4e12-e688-c0a97ccfb32c"
   },
   "outputs": [
    {
     "name": "stdout",
     "output_type": "stream",
     "text": [
      "INFO:tensorflow:Saver not created because there are no variables in the graph to restore\n"
     ]
    },
    {
     "name": "stderr",
     "output_type": "stream",
     "text": [
      "INFO:tensorflow:Saver not created because there are no variables in the graph to restore\n"
     ]
    }
   ],
   "source": [
    "model_elmo = build_model()"
   ]
  },
  {
   "cell_type": "code",
   "execution_count": 17,
   "metadata": {
    "colab": {
     "base_uri": "https://localhost:8080/",
     "height": 286
    },
    "colab_type": "code",
    "executionInfo": {
     "elapsed": 1113,
     "status": "ok",
     "timestamp": 1588919098795,
     "user": {
      "displayName": "Roghayeh Yazdani",
      "photoUrl": "",
      "userId": "16706172423200337186"
     },
     "user_tz": -270
    },
    "id": "-UkLY3mE7N_w",
    "outputId": "afac1237-3b8b-4b38-b56e-543785f71160"
   },
   "outputs": [
    {
     "name": "stdout",
     "output_type": "stream",
     "text": [
      "Model: \"model\"\n",
      "_________________________________________________________________\n",
      "Layer (type)                 Output Shape              Param #   \n",
      "=================================================================\n",
      "input_1 (InputLayer)         [(None, 1)]               0         \n",
      "_________________________________________________________________\n",
      "lambda (Lambda)              (None, 1024)              0         \n",
      "_________________________________________________________________\n",
      "dense (Dense)                (None, 1024)              1049600   \n",
      "_________________________________________________________________\n",
      "dense_1 (Dense)              (None, 1)                 1025      \n",
      "=================================================================\n",
      "Total params: 1,050,625\n",
      "Trainable params: 1,050,625\n",
      "Non-trainable params: 0\n",
      "_________________________________________________________________\n"
     ]
    }
   ],
   "source": [
    "model_elmo.summary()"
   ]
  },
  {
   "cell_type": "code",
   "execution_count": 47,
   "metadata": {
    "colab": {
     "base_uri": "https://localhost:8080/",
     "height": 370
    },
    "colab_type": "code",
    "executionInfo": {
     "elapsed": 252458,
     "status": "ok",
     "timestamp": 1588920585771,
     "user": {
      "displayName": "Roghayeh Yazdani",
      "photoUrl": "",
      "userId": "16706172423200337186"
     },
     "user_tz": -270
    },
    "id": "UUPwKSXT9PJF",
    "outputId": "a05f9741-8eac-435a-a589-02e49befe9f5"
   },
   "outputs": [
    {
     "name": "stdout",
     "output_type": "stream",
     "text": [
      "Train on 3566 samples, validate on 892 samples\n",
      "Epoch 1/10\n",
      "3566/3566 [==============================] - 26s 7ms/sample - loss: 1.0045 - acc: 0.9481 - val_loss: 0.7867 - val_acc: 0.9720\n",
      "Epoch 2/10\n",
      "3566/3566 [==============================] - 25s 7ms/sample - loss: 0.6425 - acc: 0.9787 - val_loss: 0.5381 - val_acc: 0.9809\n",
      "Epoch 3/10\n",
      "3566/3566 [==============================] - 25s 7ms/sample - loss: 0.4480 - acc: 0.9826 - val_loss: 0.4001 - val_acc: 0.9731\n",
      "Epoch 4/10\n",
      "3566/3566 [==============================] - 25s 7ms/sample - loss: 0.3322 - acc: 0.9860 - val_loss: 0.3075 - val_acc: 0.9798\n",
      "Epoch 5/10\n",
      "3566/3566 [==============================] - 25s 7ms/sample - loss: 0.2525 - acc: 0.9871 - val_loss: 0.2349 - val_acc: 0.9877\n",
      "Epoch 6/10\n",
      "3566/3566 [==============================] - 24s 7ms/sample - loss: 0.1972 - acc: 0.9910 - val_loss: 0.1897 - val_acc: 0.9877\n",
      "Epoch 7/10\n",
      "3566/3566 [==============================] - 25s 7ms/sample - loss: 0.1586 - acc: 0.9907 - val_loss: 0.1593 - val_acc: 0.9821\n",
      "Epoch 8/10\n",
      "3566/3566 [==============================] - 26s 7ms/sample - loss: 0.1310 - acc: 0.9896 - val_loss: 0.1413 - val_acc: 0.9832\n",
      "Epoch 9/10\n",
      "3566/3566 [==============================] - 25s 7ms/sample - loss: 0.1090 - acc: 0.9927 - val_loss: 0.1202 - val_acc: 0.9843\n",
      "Epoch 10/10\n",
      "3566/3566 [==============================] - 25s 7ms/sample - loss: 0.1000 - acc: 0.9905 - val_loss: 0.1098 - val_acc: 0.9865\n"
     ]
    }
   ],
   "source": [
    "with tf.Session() as session:\n",
    "    K.set_session(session)\n",
    "    session.run(tf.global_variables_initializer())  \n",
    "    session.run(tf.tables_initializer())\n",
    "    history = model_elmo.fit(np.array(train_X), np.array(train_Y), epochs=10, batch_size=32, validation_split = 0.2)\n",
    "    model_elmo.save_weights('./model_spam_elmo.h5')"
   ]
  },
  {
   "cell_type": "code",
   "execution_count": 48,
   "metadata": {
    "colab": {
     "base_uri": "https://localhost:8080/",
     "height": 185
    },
    "colab_type": "code",
    "executionInfo": {
     "elapsed": 1071,
     "status": "ok",
     "timestamp": 1588921079578,
     "user": {
      "displayName": "Roghayeh Yazdani",
      "photoUrl": "",
      "userId": "16706172423200337186"
     },
     "user_tz": -270
    },
    "id": "VRJqjJVBDyym",
    "outputId": "83c2bdf1-3d53-4351-b107-3f2471556a89"
   },
   "outputs": [
    {
     "data": {
      "text/plain": [
       "[1.004508259954308,\n",
       " 0.6424541151797711,\n",
       " 0.4479754459837883,\n",
       " 0.3321980609863044,\n",
       " 0.2525289627319631,\n",
       " 0.19722523224768315,\n",
       " 0.15864400519658792,\n",
       " 0.13100759681696578,\n",
       " 0.10900593726606898,\n",
       " 0.10001377187213802]"
      ]
     },
     "execution_count": 48,
     "metadata": {
      "tags": []
     },
     "output_type": "execute_result"
    }
   ],
   "source": [
    "history.history['loss']"
   ]
  },
  {
   "cell_type": "code",
   "execution_count": 51,
   "metadata": {
    "colab": {
     "base_uri": "https://localhost:8080/",
     "height": 295
    },
    "colab_type": "code",
    "executionInfo": {
     "elapsed": 1203,
     "status": "ok",
     "timestamp": 1588921188987,
     "user": {
      "displayName": "Roghayeh Yazdani",
      "photoUrl": "",
      "userId": "16706172423200337186"
     },
     "user_tz": -270
    },
    "id": "y3FV6Co19mf3",
    "outputId": "f02f9d9f-035e-4655-f67e-4180962dbf0d"
   },
   "outputs": [
    {
     "data": {
      "image/png": "[encoded data removed]",
      "text/plain": [
       "<Figure size 432x288 with 1 Axes>"
      ]
     },
     "metadata": {
      "needs_background": "light",
      "tags": []
     },
     "output_type": "display_data"
    }
   ],
   "source": [
    "import matplotlib.pyplot as plt\n",
    "%matplotlib inline\n",
    "\n",
    "#acc = history.history['acc']\n",
    "#val_acc = history.history['val_acc']\n",
    "loss = history.history['loss']\n",
    "val_loss = history.history['val_loss']\n",
    "\n",
    "epochs = range(1, len(loss) + 1)\n",
    "\n",
    "plt.plot(epochs, loss, 'b', label='Training Loss')\n",
    "plt.plot(epochs, val_loss, 'g', label='Validation Loss')\n",
    "plt.title('Training and validation Loss')\n",
    "plt.xlabel('Epochs')\n",
    "plt.ylabel('Loss')\n",
    "plt.legend()\n",
    "\n",
    "plt.show()"
   ]
  },
  {
   "cell_type": "code",
   "execution_count": 0,
   "metadata": {
    "colab": {},
    "colab_type": "code",
    "id": "QaZGQfPt9_gv"
   },
   "outputs": [],
   "source": [
    "\n",
    "with tf.Session() as session:\n",
    "    K.set_session(session)\n",
    "    session.run(tf.global_variables_initializer())  \n",
    "    session.run(tf.tables_initializer())\n",
    "    model_elmo.load_weights('./model_spam_elmo.h5')\n",
    "    predicts = model_elmo.predict(np.array(test_X))\n"
   ]
  },
  {
   "cell_type": "code",
   "execution_count": 76,
   "metadata": {
    "colab": {
     "base_uri": "https://localhost:8080/",
     "height": 34
    },
    "colab_type": "code",
    "executionInfo": {
     "elapsed": 1075,
     "status": "ok",
     "timestamp": 1588922863612,
     "user": {
      "displayName": "Roghayeh Yazdani",
      "photoUrl": "",
      "userId": "16706172423200337186"
     },
     "user_tz": -270
    },
    "id": "lOb_tZJ2Ba3B",
    "outputId": "060f8322-7a8b-4652-b758-2cac516d84d0"
   },
   "outputs": [
    {
     "data": {
      "text/plain": [
       "1114"
      ]
     },
     "execution_count": 76,
     "metadata": {
      "tags": []
     },
     "output_type": "execute_result"
    }
   ],
   "source": [
    "len(predicts)"
   ]
  },
  {
   "cell_type": "code",
   "execution_count": 0,
   "metadata": {
    "colab": {},
    "colab_type": "code",
    "id": "Hek9X1Gb-Dqv"
   },
   "outputs": [],
   "source": [
    "pred_Y=[]\n",
    "for i in range(len(predicts)):\n",
    "    if predicts[i] >= 0.5:\n",
    "        pred_Y.append(1)\n",
    "    else:\n",
    "        pred_Y.append(0)      "
   ]
  },
  {
   "cell_type": "code",
   "execution_count": 0,
   "metadata": {
    "colab": {},
    "colab_type": "code",
    "id": "p--MFATt-GAv"
   },
   "outputs": [],
   "source": [
    "res = []\n",
    "for i in range(len(test_Y)):\n",
    "    res.append([test_Y[i],pred_Y[i]])\n"
   ]
  },
  {
   "cell_type": "code",
   "execution_count": 0,
   "metadata": {
    "colab": {},
    "colab_type": "code",
    "id": "m1ObikK6-JPg"
   },
   "outputs": [],
   "source": [
    "from sklearn.metrics import accuracy_score, f1_score, precision_score, recall_score\n",
    "from sklearn.metrics import classification_report, roc_curve, auc, confusion_matrix\n",
    "import seaborn as sns\n",
    "import pandas as pd\n",
    "import matplotlib.pyplot as plt"
   ]
  },
  {
   "cell_type": "code",
   "execution_count": 57,
   "metadata": {
    "colab": {
     "base_uri": "https://localhost:8080/",
     "height": 34
    },
    "colab_type": "code",
    "executionInfo": {
     "elapsed": 2840,
     "status": "ok",
     "timestamp": 1588921231595,
     "user": {
      "displayName": "Roghayeh Yazdani",
      "photoUrl": "",
      "userId": "16706172423200337186"
     },
     "user_tz": -270
    },
    "id": "MWZHRoll-K_E",
    "outputId": "ea002c99-38a2-4c9d-e007-792179ba4f01"
   },
   "outputs": [
    {
     "data": {
      "text/plain": [
       "0.9529829545454546"
      ]
     },
     "execution_count": 57,
     "metadata": {
      "tags": []
     },
     "output_type": "execute_result"
    }
   ],
   "source": [
    "fpr, tpr, thresholds = roc_curve(test_Y, pred_Y)\n",
    "auc(fpr, tpr)"
   ]
  },
  {
   "cell_type": "code",
   "execution_count": 58,
   "metadata": {
    "colab": {
     "base_uri": "https://localhost:8080/",
     "height": 84
    },
    "colab_type": "code",
    "executionInfo": {
     "elapsed": 1062,
     "status": "ok",
     "timestamp": 1588921234797,
     "user": {
      "displayName": "Roghayeh Yazdani",
      "photoUrl": "",
      "userId": "16706172423200337186"
     },
     "user_tz": -270
    },
    "id": "0yEpwXC8-MkY",
    "outputId": "64a4bcf7-37d0-455b-c32b-7160cca6e870"
   },
   "outputs": [
    {
     "name": "stdout",
     "output_type": "stream",
     "text": [
      "precision :  0.9847396768402155\n",
      "recall :  0.9847396768402155\n",
      "f1_score :  0.9847396768402155\n",
      "accuracy_score :  0.9847396768402155\n"
     ]
    }
   ],
   "source": [
    "\n",
    "print(\"precision : \", precision_score(test_Y, pred_Y, average=\"micro\"))\n",
    "print(\"recall : \", recall_score(test_Y, pred_Y, average=\"micro\")) \n",
    "print(\"f1_score : \", f1_score(test_Y, pred_Y, average=\"micro\"))\n",
    "print(\"accuracy_score : \", accuracy_score(test_Y, pred_Y))\n",
    "#print(confusion_matrix(test_Y, pred_Y))"
   ]
  },
  {
   "cell_type": "code",
   "execution_count": 59,
   "metadata": {
    "colab": {
     "base_uri": "https://localhost:8080/",
     "height": 84
    },
    "colab_type": "code",
    "executionInfo": {
     "elapsed": 2088,
     "status": "ok",
     "timestamp": 1588921238778,
     "user": {
      "displayName": "Roghayeh Yazdani",
      "photoUrl": "",
      "userId": "16706172423200337186"
     },
     "user_tz": -270
    },
    "id": "NWOUfCl6-O2n",
    "outputId": "babe6b4b-5b83-4571-f247-4289e4d66166"
   },
   "outputs": [
    {
     "name": "stdout",
     "output_type": "stream",
     "text": [
      "precision :  0.9823014266886564\n",
      "recall :  0.9529829545454545\n",
      "f1_score :  0.9669786070614657\n",
      "accuracy_score :  0.9847396768402155\n"
     ]
    }
   ],
   "source": [
    "print(\"precision : \", precision_score(test_Y, pred_Y, average=\"macro\"))\n",
    "print(\"recall : \", recall_score(test_Y, pred_Y, average=\"macro\")) \n",
    "print(\"f1_score : \", f1_score(test_Y, pred_Y, average=\"macro\"))\n",
    "print(\"accuracy_score : \", accuracy_score(test_Y, pred_Y))"
   ]
  },
  {
   "cell_type": "code",
   "execution_count": 62,
   "metadata": {
    "colab": {
     "base_uri": "https://localhost:8080/",
     "height": 370
    },
    "colab_type": "code",
    "executionInfo": {
     "elapsed": 250303,
     "status": "ok",
     "timestamp": 1588921649097,
     "user": {
      "displayName": "Roghayeh Yazdani",
      "photoUrl": "",
      "userId": "16706172423200337186"
     },
     "user_tz": -270
    },
    "id": "Mf1tIsVBFiSp",
    "outputId": "39921934-7b5b-43af-b8d9-94478a516f7c"
   },
   "outputs": [
    {
     "name": "stdout",
     "output_type": "stream",
     "text": [
      "Train on 3566 samples, validate on 892 samples\n",
      "Epoch 1/10\n",
      "3566/3566 [==============================] - 25s 7ms/sample - loss: 0.0865 - acc: 0.9921 - val_loss: 0.1016 - val_acc: 0.9832\n",
      "Epoch 2/10\n",
      "3566/3566 [==============================] - 25s 7ms/sample - loss: 0.0707 - acc: 0.9933 - val_loss: 0.0914 - val_acc: 0.9821\n",
      "Epoch 3/10\n",
      "3566/3566 [==============================] - 25s 7ms/sample - loss: 0.0671 - acc: 0.9933 - val_loss: 0.0851 - val_acc: 0.9843\n",
      "Epoch 4/10\n",
      "3566/3566 [==============================] - 25s 7ms/sample - loss: 0.0585 - acc: 0.9947 - val_loss: 0.0786 - val_acc: 0.9877\n",
      "Epoch 5/10\n",
      "3566/3566 [==============================] - 25s 7ms/sample - loss: 0.0560 - acc: 0.9936 - val_loss: 0.0868 - val_acc: 0.9843\n",
      "Epoch 6/10\n",
      "3566/3566 [==============================] - 25s 7ms/sample - loss: 0.0524 - acc: 0.9938 - val_loss: 0.0992 - val_acc: 0.9776\n",
      "Epoch 7/10\n",
      "3566/3566 [==============================] - 24s 7ms/sample - loss: 0.0626 - acc: 0.9907 - val_loss: 0.0792 - val_acc: 0.9832\n",
      "Epoch 8/10\n",
      "3566/3566 [==============================] - 25s 7ms/sample - loss: 0.0455 - acc: 0.9964 - val_loss: 0.0758 - val_acc: 0.9865\n",
      "Epoch 9/10\n",
      "3566/3566 [==============================] - 25s 7ms/sample - loss: 0.0400 - acc: 0.9972 - val_loss: 0.0719 - val_acc: 0.9854\n",
      "Epoch 10/10\n",
      "3566/3566 [==============================] - 24s 7ms/sample - loss: 0.0407 - acc: 0.9966 - val_loss: 0.0685 - val_acc: 0.9832\n"
     ]
    }
   ],
   "source": [
    "with tf.Session() as session:\n",
    "    K.set_session(session)\n",
    "    session.run(tf.global_variables_initializer())  \n",
    "    session.run(tf.tables_initializer())\n",
    "    model_elmo.load_weights('./model_spam_elmo.h5')\n",
    "    history = model_elmo.fit(np.array(train_X), np.array(train_Y), epochs=10, batch_size=32, validation_split = 0.2)\n",
    "    model_elmo.save_weights('./model_spam_elmo.h5')"
   ]
  },
  {
   "cell_type": "code",
   "execution_count": 63,
   "metadata": {
    "colab": {
     "base_uri": "https://localhost:8080/",
     "height": 185
    },
    "colab_type": "code",
    "executionInfo": {
     "elapsed": 1087,
     "status": "ok",
     "timestamp": 1588921773908,
     "user": {
      "displayName": "Roghayeh Yazdani",
      "photoUrl": "",
      "userId": "16706172423200337186"
     },
     "user_tz": -270
    },
    "id": "To9yzMH9Fi6N",
    "outputId": "d98626ef-9577-4a62-942a-508bf7eeb7d2"
   },
   "outputs": [
    {
     "data": {
      "text/plain": [
       "[0.08651072831549673,\n",
       " 0.07066502865451946,\n",
       " 0.06712863013875398,\n",
       " 0.058463993274924866,\n",
       " 0.055979916091488106,\n",
       " 0.05235330233129971,\n",
       " 0.06258024144510306,\n",
       " 0.04553197110954524,\n",
       " 0.03998809044348077,\n",
       " 0.04066033759773346]"
      ]
     },
     "execution_count": 63,
     "metadata": {
      "tags": []
     },
     "output_type": "execute_result"
    }
   ],
   "source": [
    "history.history['loss']"
   ]
  },
  {
   "cell_type": "code",
   "execution_count": 64,
   "metadata": {
    "colab": {
     "base_uri": "https://localhost:8080/",
     "height": 295
    },
    "colab_type": "code",
    "executionInfo": {
     "elapsed": 1477,
     "status": "ok",
     "timestamp": 1588921778828,
     "user": {
      "displayName": "Roghayeh Yazdani",
      "photoUrl": "",
      "userId": "16706172423200337186"
     },
     "user_tz": -270
    },
    "id": "b2NCqtUSFjJp",
    "outputId": "5698990b-17ee-4d31-9d9f-14ba0bb9ad5a"
   },
   "outputs": [
    {
     "data": {
      "image/png": "[encoded data removed]",
      "text/plain": [
       "<Figure size 432x288 with 1 Axes>"
      ]
     },
     "metadata": {
      "needs_background": "light",
      "tags": []
     },
     "output_type": "display_data"
    }
   ],
   "source": [
    "import matplotlib.pyplot as plt\n",
    "%matplotlib inline\n",
    "\n",
    "#acc = history.history['acc']\n",
    "#val_acc = history.history['val_acc']\n",
    "loss = history.history['loss']\n",
    "val_loss = history.history['val_loss']\n",
    "\n",
    "epochs = range(1, len(loss) + 1)\n",
    "\n",
    "plt.plot(epochs, loss, 'b', label='Training Loss')\n",
    "plt.plot(epochs, val_loss, 'g', label='Validation Loss')\n",
    "plt.title('Training and validation Loss')\n",
    "plt.xlabel('Epochs')\n",
    "plt.ylabel('Loss')\n",
    "plt.legend()\n",
    "\n",
    "plt.show()"
   ]
  },
  {
   "cell_type": "code",
   "execution_count": 69,
   "metadata": {
    "colab": {
     "base_uri": "https://localhost:8080/",
     "height": 34
    },
    "colab_type": "code",
    "executionInfo": {
     "elapsed": 1133,
     "status": "ok",
     "timestamp": 1588921846607,
     "user": {
      "displayName": "Roghayeh Yazdani",
      "photoUrl": "",
      "userId": "16706172423200337186"
     },
     "user_tz": -270
    },
    "id": "QEDdry_QHzyO",
    "outputId": "108facd9-d238-443a-cbec-22a5705ed226"
   },
   "outputs": [
    {
     "data": {
      "text/plain": [
       "0.975189393939394"
      ]
     },
     "execution_count": 69,
     "metadata": {
      "tags": []
     },
     "output_type": "execute_result"
    }
   ],
   "source": [
    "fpr, tpr, thresholds = roc_curve(test_Y, pred_Y)\n",
    "auc(fpr, tpr)"
   ]
  },
  {
   "cell_type": "code",
   "execution_count": 70,
   "metadata": {
    "colab": {
     "base_uri": "https://localhost:8080/",
     "height": 84
    },
    "colab_type": "code",
    "executionInfo": {
     "elapsed": 1064,
     "status": "ok",
     "timestamp": 1588921859823,
     "user": {
      "displayName": "Roghayeh Yazdani",
      "photoUrl": "",
      "userId": "16706172423200337186"
     },
     "user_tz": -270
    },
    "id": "GpDaNRBQH3II",
    "outputId": "50e81b8c-4181-4335-d0f5-624b3ce306ff"
   },
   "outputs": [
    {
     "name": "stdout",
     "output_type": "stream",
     "text": [
      "precision :  0.9901256732495511\n",
      "recall :  0.9901256732495511\n",
      "f1_score :  0.9901256732495511\n",
      "accuracy_score :  0.9901256732495511\n"
     ]
    }
   ],
   "source": [
    "\n",
    "print(\"precision : \", precision_score(test_Y, pred_Y, average=\"micro\"))\n",
    "print(\"recall : \", recall_score(test_Y, pred_Y, average=\"micro\")) \n",
    "print(\"f1_score : \", f1_score(test_Y, pred_Y, average=\"micro\"))\n",
    "print(\"accuracy_score : \", accuracy_score(test_Y, pred_Y))\n",
    "#print(confusion_matrix(test_Y, pred_Y))"
   ]
  },
  {
   "cell_type": "code",
   "execution_count": 71,
   "metadata": {
    "colab": {
     "base_uri": "https://localhost:8080/",
     "height": 84
    },
    "colab_type": "code",
    "executionInfo": {
     "elapsed": 1121,
     "status": "ok",
     "timestamp": 1588921875488,
     "user": {
      "displayName": "Roghayeh Yazdani",
      "photoUrl": "",
      "userId": "16706172423200337186"
     },
     "user_tz": -270
    },
    "id": "uQrX25EXH66d",
    "outputId": "8a469deb-da95-4f36-e498-f5b302ee551d"
   },
   "outputs": [
    {
     "name": "stdout",
     "output_type": "stream",
     "text": [
      "precision :  0.9831204912903249\n",
      "recall :  0.975189393939394\n",
      "f1_score :  0.979107098710178\n",
      "accuracy_score :  0.9901256732495511\n"
     ]
    }
   ],
   "source": [
    "print(\"precision : \", precision_score(test_Y, pred_Y, average=\"macro\"))\n",
    "print(\"recall : \", recall_score(test_Y, pred_Y, average=\"macro\")) \n",
    "print(\"f1_score : \", f1_score(test_Y, pred_Y, average=\"macro\"))\n",
    "print(\"accuracy_score : \", accuracy_score(test_Y, pred_Y))"
   ]
  },
  {
   "cell_type": "code",
   "execution_count": 72,
   "metadata": {
    "colab": {
     "base_uri": "https://localhost:8080/",
     "height": 1000
    },
    "colab_type": "code",
    "executionInfo": {
     "elapsed": 745476,
     "status": "ok",
     "timestamp": 1588922644655,
     "user": {
      "displayName": "Roghayeh Yazdani",
      "photoUrl": "",
      "userId": "16706172423200337186"
     },
     "user_tz": -270
    },
    "id": "4Dzx5UEKH-rn",
    "outputId": "552c701e-be26-4042-8dab-235eb3685733"
   },
   "outputs": [
    {
     "name": "stdout",
     "output_type": "stream",
     "text": [
      "Train on 3566 samples, validate on 892 samples\n",
      "Epoch 1/30\n",
      "3566/3566 [==============================] - 26s 7ms/sample - loss: 0.0416 - acc: 0.9955 - val_loss: 0.0871 - val_acc: 0.9821\n",
      "Epoch 2/30\n",
      "3566/3566 [==============================] - 25s 7ms/sample - loss: 0.0409 - acc: 0.9961 - val_loss: 0.0662 - val_acc: 0.9821\n",
      "Epoch 3/30\n",
      "3566/3566 [==============================] - 24s 7ms/sample - loss: 0.0344 - acc: 0.9975 - val_loss: 0.0629 - val_acc: 0.9877\n",
      "Epoch 4/30\n",
      "3566/3566 [==============================] - 25s 7ms/sample - loss: 0.0353 - acc: 0.9978 - val_loss: 0.0632 - val_acc: 0.9888\n",
      "Epoch 5/30\n",
      "3566/3566 [==============================] - 25s 7ms/sample - loss: 0.0364 - acc: 0.9966 - val_loss: 0.0723 - val_acc: 0.9821\n",
      "Epoch 6/30\n",
      "3566/3566 [==============================] - 25s 7ms/sample - loss: 0.0333 - acc: 0.9969 - val_loss: 0.0706 - val_acc: 0.9865\n",
      "Epoch 7/30\n",
      "3566/3566 [==============================] - 25s 7ms/sample - loss: 0.0352 - acc: 0.9964 - val_loss: 0.0745 - val_acc: 0.9776\n",
      "Epoch 8/30\n",
      "3566/3566 [==============================] - 25s 7ms/sample - loss: 0.0383 - acc: 0.9941 - val_loss: 0.0698 - val_acc: 0.9865\n",
      "Epoch 9/30\n",
      "3566/3566 [==============================] - 25s 7ms/sample - loss: 0.0323 - acc: 0.9972 - val_loss: 0.0887 - val_acc: 0.9720\n",
      "Epoch 10/30\n",
      "3566/3566 [==============================] - 25s 7ms/sample - loss: 0.0374 - acc: 0.9958 - val_loss: 0.0754 - val_acc: 0.9776\n",
      "Epoch 11/30\n",
      "3566/3566 [==============================] - 25s 7ms/sample - loss: 0.0319 - acc: 0.9969 - val_loss: 0.0640 - val_acc: 0.9832\n",
      "Epoch 12/30\n",
      "3566/3566 [==============================] - 25s 7ms/sample - loss: 0.0294 - acc: 0.9986 - val_loss: 0.0761 - val_acc: 0.9832\n",
      "Epoch 13/30\n",
      "3566/3566 [==============================] - 25s 7ms/sample - loss: 0.0317 - acc: 0.9969 - val_loss: 0.0811 - val_acc: 0.9776\n",
      "Epoch 14/30\n",
      "3566/3566 [==============================] - 25s 7ms/sample - loss: 0.0336 - acc: 0.9969 - val_loss: 0.0652 - val_acc: 0.9843\n",
      "Epoch 15/30\n",
      "3566/3566 [==============================] - 25s 7ms/sample - loss: 0.0285 - acc: 0.9969 - val_loss: 0.0660 - val_acc: 0.9809\n",
      "Epoch 16/30\n",
      "3566/3566 [==============================] - 24s 7ms/sample - loss: 0.0267 - acc: 0.9983 - val_loss: 0.0620 - val_acc: 0.9865\n",
      "Epoch 17/30\n",
      "3566/3566 [==============================] - 24s 7ms/sample - loss: 0.0290 - acc: 0.9966 - val_loss: 0.0584 - val_acc: 0.9865\n",
      "Epoch 18/30\n",
      "3566/3566 [==============================] - 25s 7ms/sample - loss: 0.0272 - acc: 0.9980 - val_loss: 0.0670 - val_acc: 0.9832\n",
      "Epoch 19/30\n",
      "3566/3566 [==============================] - 25s 7ms/sample - loss: 0.0272 - acc: 0.9978 - val_loss: 0.0657 - val_acc: 0.9843\n",
      "Epoch 20/30\n",
      "3566/3566 [==============================] - 25s 7ms/sample - loss: 0.0261 - acc: 0.9972 - val_loss: 0.0646 - val_acc: 0.9854\n",
      "Epoch 21/30\n",
      "3566/3566 [==============================] - 25s 7ms/sample - loss: 0.0241 - acc: 0.9989 - val_loss: 0.0623 - val_acc: 0.9843\n",
      "Epoch 22/30\n",
      "3566/3566 [==============================] - 25s 7ms/sample - loss: 0.0312 - acc: 0.9964 - val_loss: 0.0772 - val_acc: 0.9776\n",
      "Epoch 23/30\n",
      "3566/3566 [==============================] - 25s 7ms/sample - loss: 0.0372 - acc: 0.9933 - val_loss: 0.1080 - val_acc: 0.9753\n",
      "Epoch 24/30\n",
      "3566/3566 [==============================] - 25s 7ms/sample - loss: 0.0319 - acc: 0.9975 - val_loss: 0.0628 - val_acc: 0.9832\n",
      "Epoch 25/30\n",
      "3566/3566 [==============================] - 25s 7ms/sample - loss: 0.0254 - acc: 0.9983 - val_loss: 0.0575 - val_acc: 0.9899\n",
      "Epoch 26/30\n",
      "3566/3566 [==============================] - 25s 7ms/sample - loss: 0.0237 - acc: 0.9992 - val_loss: 0.0564 - val_acc: 0.9888\n",
      "Epoch 27/30\n",
      "3566/3566 [==============================] - 25s 7ms/sample - loss: 0.0242 - acc: 0.9986 - val_loss: 0.0617 - val_acc: 0.9854\n",
      "Epoch 28/30\n",
      "3566/3566 [==============================] - 25s 7ms/sample - loss: 0.0248 - acc: 0.9978 - val_loss: 0.0594 - val_acc: 0.9821\n",
      "Epoch 29/30\n",
      "3566/3566 [==============================] - 25s 7ms/sample - loss: 0.0272 - acc: 0.9961 - val_loss: 0.0673 - val_acc: 0.9832\n",
      "Epoch 30/30\n",
      "3566/3566 [==============================] - 25s 7ms/sample - loss: 0.0316 - acc: 0.9950 - val_loss: 0.0604 - val_acc: 0.9877\n"
     ]
    }
   ],
   "source": [
    "with tf.Session() as session:\n",
    "    K.set_session(session)\n",
    "    session.run(tf.global_variables_initializer())  \n",
    "    session.run(tf.tables_initializer())\n",
    "    model_elmo.load_weights('./model_spam_elmo.h5')\n",
    "    history = model_elmo.fit(np.array(train_X), np.array(train_Y), epochs=30, batch_size=32, validation_split = 0.2)\n",
    "    model_elmo.save_weights('./model_spam_elmo.h5')"
   ]
  },
  {
   "cell_type": "code",
   "execution_count": 73,
   "metadata": {
    "colab": {
     "base_uri": "https://localhost:8080/",
     "height": 521
    },
    "colab_type": "code",
    "executionInfo": {
     "elapsed": 1050,
     "status": "ok",
     "timestamp": 1588922820600,
     "user": {
      "displayName": "Roghayeh Yazdani",
      "photoUrl": "",
      "userId": "16706172423200337186"
     },
     "user_tz": -270
    },
    "id": "UQjOM-4qIJOg",
    "outputId": "6a1805f7-d718-4522-9a74-28605547378f"
   },
   "outputs": [
    {
     "data": {
      "text/plain": [
       "[0.041617087539300046,\n",
       " 0.04085537761165664,\n",
       " 0.034388890988243076,\n",
       " 0.03531960908593051,\n",
       " 0.03641316936096982,\n",
       " 0.03331838904415632,\n",
       " 0.035220123839993456,\n",
       " 0.03828122516110982,\n",
       " 0.03227278708667817,\n",
       " 0.03742057204338452,\n",
       " 0.0319195526202308,\n",
       " 0.029381655526425285,\n",
       " 0.03171968266714743,\n",
       " 0.03361554827647669,\n",
       " 0.028475037470368007,\n",
       " 0.026701121830783128,\n",
       " 0.029043971274133752,\n",
       " 0.027197225828954362,\n",
       " 0.027200685761789557,\n",
       " 0.026108325268410927,\n",
       " 0.02406029560327931,\n",
       " 0.031210485472857315,\n",
       " 0.03719688573381036,\n",
       " 0.031900102252781025,\n",
       " 0.025426549660444126,\n",
       " 0.02373083142654587,\n",
       " 0.024186576518637037,\n",
       " 0.024767176029797323,\n",
       " 0.02720195304474935,\n",
       " 0.03156501382789917]"
      ]
     },
     "execution_count": 73,
     "metadata": {
      "tags": []
     },
     "output_type": "execute_result"
    }
   ],
   "source": [
    "history.history['loss']"
   ]
  },
  {
   "cell_type": "code",
   "execution_count": 74,
   "metadata": {
    "colab": {
     "base_uri": "https://localhost:8080/",
     "height": 295
    },
    "colab_type": "code",
    "executionInfo": {
     "elapsed": 1168,
     "status": "ok",
     "timestamp": 1588922837773,
     "user": {
      "displayName": "Roghayeh Yazdani",
      "photoUrl": "",
      "userId": "16706172423200337186"
     },
     "user_tz": -270
    },
    "id": "z4Lw-tN8IMJ3",
    "outputId": "4e205c60-7359-477a-a324-fb97c0e4a5fe"
   },
   "outputs": [
    {
     "data": {
      "image/png": "[encoded data removed]",
      "text/plain": [
       "<Figure size 432x288 with 1 Axes>"
      ]
     },
     "metadata": {
      "needs_background": "light",
      "tags": []
     },
     "output_type": "display_data"
    }
   ],
   "source": [
    "import matplotlib.pyplot as plt\n",
    "%matplotlib inline\n",
    "\n",
    "#acc = history.history['acc']\n",
    "#val_acc = history.history['val_acc']\n",
    "loss = history.history['loss']\n",
    "val_loss = history.history['val_loss']\n",
    "\n",
    "epochs = range(1, len(loss) + 1)\n",
    "\n",
    "plt.plot(epochs, loss, 'b', label='Training Loss')\n",
    "plt.plot(epochs, val_loss, 'g', label='Validation Loss')\n",
    "plt.title('Training and validation Loss')\n",
    "plt.xlabel('Epochs')\n",
    "plt.ylabel('Loss')\n",
    "plt.legend()\n",
    "\n",
    "plt.show()"
   ]
  },
  {
   "cell_type": "code",
   "execution_count": 79,
   "metadata": {
    "colab": {
     "base_uri": "https://localhost:8080/",
     "height": 34
    },
    "colab_type": "code",
    "executionInfo": {
     "elapsed": 1078,
     "status": "ok",
     "timestamp": 1588922883064,
     "user": {
      "displayName": "Roghayeh Yazdani",
      "photoUrl": "",
      "userId": "16706172423200337186"
     },
     "user_tz": -270
    },
    "id": "qYwD1AlkLw8B",
    "outputId": "b4c38a2e-53ed-4718-b985-85052752f284"
   },
   "outputs": [
    {
     "data": {
      "text/plain": [
       "0.9562297077922078"
      ]
     },
     "execution_count": 79,
     "metadata": {
      "tags": []
     },
     "output_type": "execute_result"
    }
   ],
   "source": [
    "fpr, tpr, thresholds = roc_curve(test_Y, pred_Y)\n",
    "auc(fpr, tpr)"
   ]
  },
  {
   "cell_type": "code",
   "execution_count": 80,
   "metadata": {
    "colab": {
     "base_uri": "https://localhost:8080/",
     "height": 84
    },
    "colab_type": "code",
    "executionInfo": {
     "elapsed": 978,
     "status": "ok",
     "timestamp": 1588922902618,
     "user": {
      "displayName": "Roghayeh Yazdani",
      "photoUrl": "",
      "userId": "16706172423200337186"
     },
     "user_tz": -270
    },
    "id": "KGn9L_a2L1oc",
    "outputId": "6f1915c9-dc41-4ebd-ad0a-d798fb830529"
   },
   "outputs": [
    {
     "name": "stdout",
     "output_type": "stream",
     "text": [
      "precision :  0.9856373429084381\n",
      "recall :  0.9856373429084381\n",
      "f1_score :  0.9856373429084381\n",
      "accuracy_score :  0.9856373429084381\n"
     ]
    }
   ],
   "source": [
    "print(\"precision : \", precision_score(test_Y, pred_Y, average=\"micro\"))\n",
    "print(\"recall : \", recall_score(test_Y, pred_Y, average=\"micro\")) \n",
    "print(\"f1_score : \", f1_score(test_Y, pred_Y, average=\"micro\"))\n",
    "print(\"accuracy_score : \", accuracy_score(test_Y, pred_Y))\n",
    "#print(confusion_matrix(test_Y, pred_Y))"
   ]
  },
  {
   "cell_type": "code",
   "execution_count": 81,
   "metadata": {
    "colab": {
     "base_uri": "https://localhost:8080/",
     "height": 84
    },
    "colab_type": "code",
    "executionInfo": {
     "elapsed": 1082,
     "status": "ok",
     "timestamp": 1588922919917,
     "user": {
      "displayName": "Roghayeh Yazdani",
      "photoUrl": "",
      "userId": "16706172423200337186"
     },
     "user_tz": -270
    },
    "id": "eK3_TS7XL55u",
    "outputId": "a8508429-079d-4dd6-9eaf-afbbfd2ac829"
   },
   "outputs": [
    {
     "name": "stdout",
     "output_type": "stream",
     "text": [
      "precision :  0.9828823024054982\n",
      "recall :  0.9562297077922077\n",
      "f1_score :  0.9690092846959002\n",
      "accuracy_score :  0.9856373429084381\n"
     ]
    }
   ],
   "source": [
    "print(\"precision : \", precision_score(test_Y, pred_Y, average=\"macro\"))\n",
    "print(\"recall : \", recall_score(test_Y, pred_Y, average=\"macro\")) \n",
    "print(\"f1_score : \", f1_score(test_Y, pred_Y, average=\"macro\"))\n",
    "print(\"accuracy_score : \", accuracy_score(test_Y, pred_Y))"
   ]
  },
  {
   "cell_type": "code",
   "execution_count": 0,
   "metadata": {
    "colab": {},
    "colab_type": "code",
    "id": "sdTtYzmBMDVv"
   },
   "outputs": [],
   "source": []
  }
 ],
 "metadata": {
  "accelerator": "GPU",
  "colab": {
   "authorship_tag": "ABX9TyPpQ5IViteIN29rjlGkco8P",
   "collapsed_sections": [],
   "name": "spam-elmo.ipynb",
   "provenance": []
  },
  "kernelspec": {
   "display_name": "Python 3",
   "language": "python",
   "name": "python3"
  },
  "language_info": {
   "codemirror_mode": {
    "name": "ipython",
    "version": 3
   },
   "file_extension": ".py",
   "mimetype": "text/x-python",
   "name": "python",
   "nbconvert_exporter": "python",
   "pygments_lexer": "ipython3",
   "version": "3.6.10"
  }
 },
 "nbformat": 4,
 "nbformat_minor": 1
}
